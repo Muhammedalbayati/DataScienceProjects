{
 "cells": [
  {
   "cell_type": "code",
   "execution_count": 130,
   "id": "32e78642",
   "metadata": {},
   "outputs": [
    {
     "name": "stdout",
     "output_type": "stream",
     "text": [
      "is equal\n"
     ]
    }
   ],
   "source": [
    "if 100==100:\n",
    "    print('is equal')\n",
    "else:\n",
    "    print('is not equal')"
   ]
  },
  {
   "cell_type": "code",
   "execution_count": 131,
   "id": "76b26db8",
   "metadata": {},
   "outputs": [],
   "source": [
    "classic_cars=[\"Pierce Arrow\",\"Oldsmobile\", \"Mustang\"]\n",
    "sports_cars=[\"Agera\",\"Regera\",\"Chiron\",\"Veyron\"]"
   ]
  },
  {
   "cell_type": "code",
   "execution_count": 132,
   "id": "85566967",
   "metadata": {},
   "outputs": [
    {
     "name": "stdout",
     "output_type": "stream",
     "text": [
      "That isn't a very long list of classic cars\n"
     ]
    }
   ],
   "source": [
    "if len(classic_cars)<5:\n",
    "    print(\"That isn't a very long list of classic cars\")"
   ]
  },
  {
   "cell_type": "code",
   "execution_count": 133,
   "id": "bdc52128",
   "metadata": {},
   "outputs": [],
   "source": [
    "car=\"Oldsmobile\""
   ]
  },
  {
   "cell_type": "code",
   "execution_count": 134,
   "id": "1d87c097",
   "metadata": {},
   "outputs": [
    {
     "name": "stdout",
     "output_type": "stream",
     "text": [
      "Your car is in Classic cars list\n"
     ]
    }
   ],
   "source": [
    "if car in classic_cars:\n",
    "    print(\"Your car is in Classic cars list\")"
   ]
  },
  {
   "cell_type": "code",
   "execution_count": 135,
   "id": "7f8fddc3",
   "metadata": {},
   "outputs": [],
   "source": [
    "if car not in classic_cars:\n",
    "    print(\"Your car is not in Classic cars list\")"
   ]
  },
  {
   "cell_type": "code",
   "execution_count": 136,
   "id": "dcd69b7d",
   "metadata": {},
   "outputs": [],
   "source": [
    "#work with dictionaries\n",
    "classic_cars_dict={\"Pierce Arrow\":100,\n",
    "                   \"Oldsmobile\":200, \n",
    "                   \"Mustang\":300}"
   ]
  },
  {
   "cell_type": "code",
   "execution_count": 137,
   "id": "013442d1",
   "metadata": {},
   "outputs": [
    {
     "name": "stdout",
     "output_type": "stream",
     "text": [
      "Your car is in Classic cars Dict\n"
     ]
    }
   ],
   "source": [
    "if car in classic_cars_dict:\n",
    "     print(\"Your car is in Classic cars Dict\")"
   ]
  },
  {
   "cell_type": "code",
   "execution_count": 138,
   "id": "5d2651f6",
   "metadata": {},
   "outputs": [
    {
     "name": "stdout",
     "output_type": "stream",
     "text": [
      "Oldsmobile  is in Classic cars Dict\n"
     ]
    }
   ],
   "source": [
    "#find spicefic key in a Dict\n",
    "if \"Oldsmobile\" in classic_cars_dict:\n",
    "     print(\"Oldsmobile  is in Classic cars Dict\")"
   ]
  },
  {
   "cell_type": "code",
   "execution_count": null,
   "id": "750809bd",
   "metadata": {},
   "outputs": [],
   "source": []
  },
  {
   "cell_type": "code",
   "execution_count": null,
   "id": "0489c74c",
   "metadata": {},
   "outputs": [],
   "source": []
  },
  {
   "cell_type": "code",
   "execution_count": null,
   "id": "7ead68a8",
   "metadata": {},
   "outputs": [],
   "source": []
  },
  {
   "cell_type": "code",
   "execution_count": null,
   "id": "8adba1c8",
   "metadata": {},
   "outputs": [],
   "source": []
  },
  {
   "cell_type": "code",
   "execution_count": null,
   "id": "4a65f2f8",
   "metadata": {},
   "outputs": [],
   "source": []
  },
  {
   "cell_type": "code",
   "execution_count": null,
   "id": "f2e20002",
   "metadata": {},
   "outputs": [],
   "source": []
  }
 ],
 "metadata": {
  "kernelspec": {
   "display_name": "Python 3",
   "language": "python",
   "name": "python3"
  },
  "language_info": {
   "codemirror_mode": {
    "name": "ipython",
    "version": 3
   },
   "file_extension": ".py",
   "mimetype": "text/x-python",
   "name": "python",
   "nbconvert_exporter": "python",
   "pygments_lexer": "ipython3",
   "version": "3.8.8"
  }
 },
 "nbformat": 4,
 "nbformat_minor": 5
}
