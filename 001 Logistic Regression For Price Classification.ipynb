{
 "cells": [
  {
   "cell_type": "markdown",
   "id": "47aa2445",
   "metadata": {},
   "source": [
    "# Logistic Regression For Price Classification\n",
    "### predict the classification of house above or below the medain house value "
   ]
  },
  {
   "cell_type": "code",
   "execution_count": 1,
   "id": "9a63709f",
   "metadata": {},
   "outputs": [
    {
     "data": {
      "text/html": [
       "<div>\n",
       "<style scoped>\n",
       "    .dataframe tbody tr th:only-of-type {\n",
       "        vertical-align: middle;\n",
       "    }\n",
       "\n",
       "    .dataframe tbody tr th {\n",
       "        vertical-align: top;\n",
       "    }\n",
       "\n",
       "    .dataframe thead th {\n",
       "        text-align: right;\n",
       "    }\n",
       "</style>\n",
       "<table border=\"1\" class=\"dataframe\">\n",
       "  <thead>\n",
       "    <tr style=\"text-align: right;\">\n",
       "      <th></th>\n",
       "      <th>longitude</th>\n",
       "      <th>latitude</th>\n",
       "      <th>housing_median_age</th>\n",
       "      <th>total_rooms</th>\n",
       "      <th>total_bedrooms</th>\n",
       "      <th>population</th>\n",
       "      <th>households</th>\n",
       "      <th>median_income</th>\n",
       "      <th>median_house_value</th>\n",
       "      <th>ocean_proximity</th>\n",
       "    </tr>\n",
       "  </thead>\n",
       "  <tbody>\n",
       "    <tr>\n",
       "      <th>13783</th>\n",
       "      <td>-117.06</td>\n",
       "      <td>34.03</td>\n",
       "      <td>27.0</td>\n",
       "      <td>1945.0</td>\n",
       "      <td>446.0</td>\n",
       "      <td>859.0</td>\n",
       "      <td>418.0</td>\n",
       "      <td>1.5203</td>\n",
       "      <td>126200.0</td>\n",
       "      <td>INLAND</td>\n",
       "    </tr>\n",
       "    <tr>\n",
       "      <th>1706</th>\n",
       "      <td>-122.32</td>\n",
       "      <td>37.95</td>\n",
       "      <td>37.0</td>\n",
       "      <td>1887.0</td>\n",
       "      <td>353.0</td>\n",
       "      <td>895.0</td>\n",
       "      <td>359.0</td>\n",
       "      <td>4.4500</td>\n",
       "      <td>196600.0</td>\n",
       "      <td>NEAR BAY</td>\n",
       "    </tr>\n",
       "    <tr>\n",
       "      <th>8385</th>\n",
       "      <td>-118.36</td>\n",
       "      <td>33.98</td>\n",
       "      <td>45.0</td>\n",
       "      <td>1559.0</td>\n",
       "      <td>305.0</td>\n",
       "      <td>891.0</td>\n",
       "      <td>341.0</td>\n",
       "      <td>4.4038</td>\n",
       "      <td>259400.0</td>\n",
       "      <td>&lt;1H OCEAN</td>\n",
       "    </tr>\n",
       "    <tr>\n",
       "      <th>7753</th>\n",
       "      <td>-118.11</td>\n",
       "      <td>33.91</td>\n",
       "      <td>19.0</td>\n",
       "      <td>3056.0</td>\n",
       "      <td>759.0</td>\n",
       "      <td>1561.0</td>\n",
       "      <td>740.0</td>\n",
       "      <td>3.1369</td>\n",
       "      <td>196900.0</td>\n",
       "      <td>&lt;1H OCEAN</td>\n",
       "    </tr>\n",
       "    <tr>\n",
       "      <th>16120</th>\n",
       "      <td>-122.46</td>\n",
       "      <td>37.78</td>\n",
       "      <td>52.0</td>\n",
       "      <td>2594.0</td>\n",
       "      <td>622.0</td>\n",
       "      <td>1421.0</td>\n",
       "      <td>593.0</td>\n",
       "      <td>3.0265</td>\n",
       "      <td>350000.0</td>\n",
       "      <td>NEAR BAY</td>\n",
       "    </tr>\n",
       "  </tbody>\n",
       "</table>\n",
       "</div>"
      ],
      "text/plain": [
       "       longitude  latitude  housing_median_age  total_rooms  total_bedrooms  \\\n",
       "13783    -117.06     34.03                27.0       1945.0           446.0   \n",
       "1706     -122.32     37.95                37.0       1887.0           353.0   \n",
       "8385     -118.36     33.98                45.0       1559.0           305.0   \n",
       "7753     -118.11     33.91                19.0       3056.0           759.0   \n",
       "16120    -122.46     37.78                52.0       2594.0           622.0   \n",
       "\n",
       "       population  households  median_income  median_house_value  \\\n",
       "13783       859.0       418.0         1.5203            126200.0   \n",
       "1706        895.0       359.0         4.4500            196600.0   \n",
       "8385        891.0       341.0         4.4038            259400.0   \n",
       "7753       1561.0       740.0         3.1369            196900.0   \n",
       "16120      1421.0       593.0         3.0265            350000.0   \n",
       "\n",
       "      ocean_proximity  \n",
       "13783          INLAND  \n",
       "1706         NEAR BAY  \n",
       "8385        <1H OCEAN  \n",
       "7753        <1H OCEAN  \n",
       "16120        NEAR BAY  "
      ]
     },
     "execution_count": 1,
     "metadata": {},
     "output_type": "execute_result"
    }
   ],
   "source": [
    "import numpy as np\n",
    "import pandas as pd\n",
    "import matplotlib.pyplot as plt\n",
    "import seaborn as sns\n",
    "\n",
    "# set_option to format our numeric values\n",
    "# pd.set_option('display.precision',2) # precison mean the numbers after the dicemal number\n",
    "\n",
    "# reset all options, *** ignore the warning that may appear ***\n",
    "#pd.reset_option('all')\n",
    "\n",
    "housing_data=pd.read_csv('housing.csv')\n",
    "\n",
    "housing_data.sample(5)"
   ]
  },
  {
   "cell_type": "markdown",
   "id": "f661cbff",
   "metadata": {},
   "source": [
    "# Data preparation"
   ]
  },
  {
   "cell_type": "code",
   "execution_count": 2,
   "id": "a432f9d9",
   "metadata": {},
   "outputs": [
    {
     "data": {
      "text/plain": [
       "(20640, 10)"
      ]
     },
     "execution_count": 2,
     "metadata": {},
     "output_type": "execute_result"
    }
   ],
   "source": [
    "housing_data.shape"
   ]
  },
  {
   "cell_type": "code",
   "execution_count": 3,
   "id": "54b1b1ab",
   "metadata": {},
   "outputs": [
    {
     "name": "stdout",
     "output_type": "stream",
     "text": [
      "<class 'pandas.core.frame.DataFrame'>\n",
      "RangeIndex: 20640 entries, 0 to 20639\n",
      "Data columns (total 10 columns):\n",
      " #   Column              Non-Null Count  Dtype  \n",
      "---  ------              --------------  -----  \n",
      " 0   longitude           20640 non-null  float64\n",
      " 1   latitude            20640 non-null  float64\n",
      " 2   housing_median_age  20640 non-null  float64\n",
      " 3   total_rooms         20640 non-null  float64\n",
      " 4   total_bedrooms      20433 non-null  float64\n",
      " 5   population          20640 non-null  float64\n",
      " 6   households          20640 non-null  float64\n",
      " 7   median_income       20640 non-null  float64\n",
      " 8   median_house_value  20640 non-null  float64\n",
      " 9   ocean_proximity     20640 non-null  object \n",
      "dtypes: float64(9), object(1)\n",
      "memory usage: 1.6+ MB\n"
     ]
    }
   ],
   "source": [
    "housing_data.info()"
   ]
  },
  {
   "cell_type": "code",
   "execution_count": 4,
   "id": "84f9d473",
   "metadata": {},
   "outputs": [
    {
     "data": {
      "text/plain": [
       "(20433, 10)"
      ]
     },
     "execution_count": 4,
     "metadata": {},
     "output_type": "execute_result"
    }
   ],
   "source": [
    "# drop of fix null values, here wil just drop all rows with nulls\n",
    "housing_data=housing_data.dropna()\n",
    "housing_data.shape"
   ]
  },
  {
   "cell_type": "code",
   "execution_count": 5,
   "id": "981755b0",
   "metadata": {},
   "outputs": [
    {
     "data": {
      "text/plain": [
       "array(['NEAR BAY', '<1H OCEAN', 'INLAND', 'NEAR OCEAN', 'ISLAND'],\n",
       "      dtype=object)"
      ]
     },
     "execution_count": 5,
     "metadata": {},
     "output_type": "execute_result"
    }
   ],
   "source": [
    "# check to see if this field is a categorical field\n",
    "housing_data['ocean_proximity'].unique()"
   ]
  },
  {
   "cell_type": "code",
   "execution_count": 6,
   "id": "61a425e9",
   "metadata": {},
   "outputs": [
    {
     "data": {
      "text/plain": [
       "(20433, 14)"
      ]
     },
     "execution_count": 6,
     "metadata": {},
     "output_type": "execute_result"
    }
   ],
   "source": [
    "# convert the categorical columns to numeric data, this will add 4 new columns and remove the orignal column\n",
    "housing_data=pd.get_dummies(housing_data,columns=['ocean_proximity']) # this step call one-hot encoding\n",
    "housing_data.shape"
   ]
  },
  {
   "cell_type": "code",
   "execution_count": 7,
   "id": "759414a8",
   "metadata": {},
   "outputs": [
    {
     "data": {
      "text/html": [
       "<div>\n",
       "<style scoped>\n",
       "    .dataframe tbody tr th:only-of-type {\n",
       "        vertical-align: middle;\n",
       "    }\n",
       "\n",
       "    .dataframe tbody tr th {\n",
       "        vertical-align: top;\n",
       "    }\n",
       "\n",
       "    .dataframe thead th {\n",
       "        text-align: right;\n",
       "    }\n",
       "</style>\n",
       "<table border=\"1\" class=\"dataframe\">\n",
       "  <thead>\n",
       "    <tr style=\"text-align: right;\">\n",
       "      <th></th>\n",
       "      <th>longitude</th>\n",
       "      <th>latitude</th>\n",
       "      <th>housing_median_age</th>\n",
       "      <th>total_rooms</th>\n",
       "      <th>total_bedrooms</th>\n",
       "      <th>population</th>\n",
       "      <th>households</th>\n",
       "      <th>median_income</th>\n",
       "      <th>median_house_value</th>\n",
       "      <th>ocean_proximity_&lt;1H OCEAN</th>\n",
       "      <th>ocean_proximity_INLAND</th>\n",
       "      <th>ocean_proximity_ISLAND</th>\n",
       "      <th>ocean_proximity_NEAR BAY</th>\n",
       "      <th>ocean_proximity_NEAR OCEAN</th>\n",
       "    </tr>\n",
       "  </thead>\n",
       "  <tbody>\n",
       "    <tr>\n",
       "      <th>0</th>\n",
       "      <td>-122.23</td>\n",
       "      <td>37.88</td>\n",
       "      <td>41.0</td>\n",
       "      <td>880.0</td>\n",
       "      <td>129.0</td>\n",
       "      <td>322.0</td>\n",
       "      <td>126.0</td>\n",
       "      <td>8.3252</td>\n",
       "      <td>452600.0</td>\n",
       "      <td>0</td>\n",
       "      <td>0</td>\n",
       "      <td>0</td>\n",
       "      <td>1</td>\n",
       "      <td>0</td>\n",
       "    </tr>\n",
       "    <tr>\n",
       "      <th>1</th>\n",
       "      <td>-122.22</td>\n",
       "      <td>37.86</td>\n",
       "      <td>21.0</td>\n",
       "      <td>7099.0</td>\n",
       "      <td>1106.0</td>\n",
       "      <td>2401.0</td>\n",
       "      <td>1138.0</td>\n",
       "      <td>8.3014</td>\n",
       "      <td>358500.0</td>\n",
       "      <td>0</td>\n",
       "      <td>0</td>\n",
       "      <td>0</td>\n",
       "      <td>1</td>\n",
       "      <td>0</td>\n",
       "    </tr>\n",
       "    <tr>\n",
       "      <th>2</th>\n",
       "      <td>-122.24</td>\n",
       "      <td>37.85</td>\n",
       "      <td>52.0</td>\n",
       "      <td>1467.0</td>\n",
       "      <td>190.0</td>\n",
       "      <td>496.0</td>\n",
       "      <td>177.0</td>\n",
       "      <td>7.2574</td>\n",
       "      <td>352100.0</td>\n",
       "      <td>0</td>\n",
       "      <td>0</td>\n",
       "      <td>0</td>\n",
       "      <td>1</td>\n",
       "      <td>0</td>\n",
       "    </tr>\n",
       "    <tr>\n",
       "      <th>3</th>\n",
       "      <td>-122.25</td>\n",
       "      <td>37.85</td>\n",
       "      <td>52.0</td>\n",
       "      <td>1274.0</td>\n",
       "      <td>235.0</td>\n",
       "      <td>558.0</td>\n",
       "      <td>219.0</td>\n",
       "      <td>5.6431</td>\n",
       "      <td>341300.0</td>\n",
       "      <td>0</td>\n",
       "      <td>0</td>\n",
       "      <td>0</td>\n",
       "      <td>1</td>\n",
       "      <td>0</td>\n",
       "    </tr>\n",
       "    <tr>\n",
       "      <th>4</th>\n",
       "      <td>-122.25</td>\n",
       "      <td>37.85</td>\n",
       "      <td>52.0</td>\n",
       "      <td>1627.0</td>\n",
       "      <td>280.0</td>\n",
       "      <td>565.0</td>\n",
       "      <td>259.0</td>\n",
       "      <td>3.8462</td>\n",
       "      <td>342200.0</td>\n",
       "      <td>0</td>\n",
       "      <td>0</td>\n",
       "      <td>0</td>\n",
       "      <td>1</td>\n",
       "      <td>0</td>\n",
       "    </tr>\n",
       "  </tbody>\n",
       "</table>\n",
       "</div>"
      ],
      "text/plain": [
       "   longitude  latitude  housing_median_age  total_rooms  total_bedrooms  \\\n",
       "0    -122.23     37.88                41.0        880.0           129.0   \n",
       "1    -122.22     37.86                21.0       7099.0          1106.0   \n",
       "2    -122.24     37.85                52.0       1467.0           190.0   \n",
       "3    -122.25     37.85                52.0       1274.0           235.0   \n",
       "4    -122.25     37.85                52.0       1627.0           280.0   \n",
       "\n",
       "   population  households  median_income  median_house_value  \\\n",
       "0       322.0       126.0         8.3252            452600.0   \n",
       "1      2401.0      1138.0         8.3014            358500.0   \n",
       "2       496.0       177.0         7.2574            352100.0   \n",
       "3       558.0       219.0         5.6431            341300.0   \n",
       "4       565.0       259.0         3.8462            342200.0   \n",
       "\n",
       "   ocean_proximity_<1H OCEAN  ocean_proximity_INLAND  ocean_proximity_ISLAND  \\\n",
       "0                          0                       0                       0   \n",
       "1                          0                       0                       0   \n",
       "2                          0                       0                       0   \n",
       "3                          0                       0                       0   \n",
       "4                          0                       0                       0   \n",
       "\n",
       "   ocean_proximity_NEAR BAY  ocean_proximity_NEAR OCEAN  \n",
       "0                         1                           0  \n",
       "1                         1                           0  \n",
       "2                         1                           0  \n",
       "3                         1                           0  \n",
       "4                         1                           0  "
      ]
     },
     "execution_count": 7,
     "metadata": {},
     "output_type": "execute_result"
    }
   ],
   "source": [
    "housing_data.head()"
   ]
  },
  {
   "cell_type": "code",
   "execution_count": 31,
   "id": "70ce9dcc",
   "metadata": {},
   "outputs": [
    {
     "data": {
      "text/plain": [
       "[Text(0, 0, 'longitude'),\n",
       " Text(1, 0, 'latitude'),\n",
       " Text(2, 0, 'housing_median_age'),\n",
       " Text(3, 0, 'total_rooms'),\n",
       " Text(4, 0, 'total_bedrooms'),\n",
       " Text(5, 0, 'population'),\n",
       " Text(6, 0, 'households'),\n",
       " Text(7, 0, 'median_income'),\n",
       " Text(8, 0, 'median_house_value'),\n",
       " Text(9, 0, 'ocean_proximity_<1H OCEAN'),\n",
       " Text(10, 0, 'ocean_proximity_INLAND'),\n",
       " Text(11, 0, 'ocean_proximity_ISLAND'),\n",
       " Text(12, 0, 'ocean_proximity_NEAR BAY'),\n",
       " Text(13, 0, 'ocean_proximity_NEAR OCEAN'),\n",
       " Text(14, 0, 'above_median')]"
      ]
     },
     "execution_count": 31,
     "metadata": {},
     "output_type": "execute_result"
    },
    {
     "data": {
      "image/png": "[encoded data removed]",
      "text/plain": [
       "<Figure size 1080x576 with 1 Axes>"
      ]
     },
     "metadata": {
      "needs_background": "light"
     },
     "output_type": "display_data"
    }
   ],
   "source": [
    "#we need to find out if there is any outliers i our data\n",
    "# will draw boxplot for all columns\n",
    "fig,ax=plt.subplots(figsize=(15,8))\n",
    "bp=sns.boxplot(data=housing_data)\n",
    "bp.set_xticklabels(bp.get_xticklabels(),rotation=90) # label rotation "
   ]
  },
  {
   "cell_type": "code",
   "execution_count": 9,
   "id": "e2cfae5a",
   "metadata": {},
   "outputs": [
    {
     "data": {
      "image/png": "[encoded data removed]",
      "text/plain": [
       "<Figure size 720x576 with 1 Axes>"
      ]
     },
     "metadata": {
      "needs_background": "light"
     },
     "output_type": "display_data"
    }
   ],
   "source": [
    "# will draw boxplot for all columns\n",
    "fig,ax=plt.subplots(figsize=(10,8))\n",
    "bp=sns.boxplot(data=housing_data['median_house_value'])"
   ]
  },
  {
   "cell_type": "code",
   "execution_count": 10,
   "id": "5f830905",
   "metadata": {},
   "outputs": [
    {
     "data": {
      "text/html": [
       "<div>\n",
       "<style scoped>\n",
       "    .dataframe tbody tr th:only-of-type {\n",
       "        vertical-align: middle;\n",
       "    }\n",
       "\n",
       "    .dataframe tbody tr th {\n",
       "        vertical-align: top;\n",
       "    }\n",
       "\n",
       "    .dataframe thead th {\n",
       "        text-align: right;\n",
       "    }\n",
       "</style>\n",
       "<table border=\"1\" class=\"dataframe\">\n",
       "  <thead>\n",
       "    <tr style=\"text-align: right;\">\n",
       "      <th></th>\n",
       "      <th>longitude</th>\n",
       "      <th>latitude</th>\n",
       "      <th>housing_median_age</th>\n",
       "      <th>total_rooms</th>\n",
       "      <th>total_bedrooms</th>\n",
       "      <th>population</th>\n",
       "      <th>households</th>\n",
       "      <th>median_income</th>\n",
       "      <th>median_house_value</th>\n",
       "      <th>ocean_proximity_&lt;1H OCEAN</th>\n",
       "      <th>ocean_proximity_INLAND</th>\n",
       "      <th>ocean_proximity_ISLAND</th>\n",
       "      <th>ocean_proximity_NEAR BAY</th>\n",
       "      <th>ocean_proximity_NEAR OCEAN</th>\n",
       "    </tr>\n",
       "  </thead>\n",
       "  <tbody>\n",
       "    <tr>\n",
       "      <th>count</th>\n",
       "      <td>20433.000000</td>\n",
       "      <td>20433.000000</td>\n",
       "      <td>20433.000000</td>\n",
       "      <td>20433.000000</td>\n",
       "      <td>20433.000000</td>\n",
       "      <td>20433.000000</td>\n",
       "      <td>20433.000000</td>\n",
       "      <td>20433.000000</td>\n",
       "      <td>20433.000000</td>\n",
       "      <td>20433.000000</td>\n",
       "      <td>20433.000000</td>\n",
       "      <td>20433.000000</td>\n",
       "      <td>20433.000000</td>\n",
       "      <td>20433.000000</td>\n",
       "    </tr>\n",
       "    <tr>\n",
       "      <th>mean</th>\n",
       "      <td>-119.570689</td>\n",
       "      <td>35.633221</td>\n",
       "      <td>28.633094</td>\n",
       "      <td>2636.504233</td>\n",
       "      <td>537.870553</td>\n",
       "      <td>1424.946949</td>\n",
       "      <td>499.433465</td>\n",
       "      <td>3.871162</td>\n",
       "      <td>206864.413155</td>\n",
       "      <td>0.442128</td>\n",
       "      <td>0.317917</td>\n",
       "      <td>0.000245</td>\n",
       "      <td>0.111095</td>\n",
       "      <td>0.128615</td>\n",
       "    </tr>\n",
       "    <tr>\n",
       "      <th>std</th>\n",
       "      <td>2.003578</td>\n",
       "      <td>2.136348</td>\n",
       "      <td>12.591805</td>\n",
       "      <td>2185.269567</td>\n",
       "      <td>421.385070</td>\n",
       "      <td>1133.208490</td>\n",
       "      <td>382.299226</td>\n",
       "      <td>1.899291</td>\n",
       "      <td>115435.667099</td>\n",
       "      <td>0.496652</td>\n",
       "      <td>0.465678</td>\n",
       "      <td>0.015641</td>\n",
       "      <td>0.314257</td>\n",
       "      <td>0.334782</td>\n",
       "    </tr>\n",
       "    <tr>\n",
       "      <th>min</th>\n",
       "      <td>-124.350000</td>\n",
       "      <td>32.540000</td>\n",
       "      <td>1.000000</td>\n",
       "      <td>2.000000</td>\n",
       "      <td>1.000000</td>\n",
       "      <td>3.000000</td>\n",
       "      <td>1.000000</td>\n",
       "      <td>0.499900</td>\n",
       "      <td>14999.000000</td>\n",
       "      <td>0.000000</td>\n",
       "      <td>0.000000</td>\n",
       "      <td>0.000000</td>\n",
       "      <td>0.000000</td>\n",
       "      <td>0.000000</td>\n",
       "    </tr>\n",
       "    <tr>\n",
       "      <th>25%</th>\n",
       "      <td>-121.800000</td>\n",
       "      <td>33.930000</td>\n",
       "      <td>18.000000</td>\n",
       "      <td>1450.000000</td>\n",
       "      <td>296.000000</td>\n",
       "      <td>787.000000</td>\n",
       "      <td>280.000000</td>\n",
       "      <td>2.563700</td>\n",
       "      <td>119500.000000</td>\n",
       "      <td>0.000000</td>\n",
       "      <td>0.000000</td>\n",
       "      <td>0.000000</td>\n",
       "      <td>0.000000</td>\n",
       "      <td>0.000000</td>\n",
       "    </tr>\n",
       "    <tr>\n",
       "      <th>50%</th>\n",
       "      <td>-118.490000</td>\n",
       "      <td>34.260000</td>\n",
       "      <td>29.000000</td>\n",
       "      <td>2127.000000</td>\n",
       "      <td>435.000000</td>\n",
       "      <td>1166.000000</td>\n",
       "      <td>409.000000</td>\n",
       "      <td>3.536500</td>\n",
       "      <td>179700.000000</td>\n",
       "      <td>0.000000</td>\n",
       "      <td>0.000000</td>\n",
       "      <td>0.000000</td>\n",
       "      <td>0.000000</td>\n",
       "      <td>0.000000</td>\n",
       "    </tr>\n",
       "    <tr>\n",
       "      <th>75%</th>\n",
       "      <td>-118.010000</td>\n",
       "      <td>37.720000</td>\n",
       "      <td>37.000000</td>\n",
       "      <td>3143.000000</td>\n",
       "      <td>647.000000</td>\n",
       "      <td>1722.000000</td>\n",
       "      <td>604.000000</td>\n",
       "      <td>4.744000</td>\n",
       "      <td>264700.000000</td>\n",
       "      <td>1.000000</td>\n",
       "      <td>1.000000</td>\n",
       "      <td>0.000000</td>\n",
       "      <td>0.000000</td>\n",
       "      <td>0.000000</td>\n",
       "    </tr>\n",
       "    <tr>\n",
       "      <th>max</th>\n",
       "      <td>-114.310000</td>\n",
       "      <td>41.950000</td>\n",
       "      <td>52.000000</td>\n",
       "      <td>39320.000000</td>\n",
       "      <td>6445.000000</td>\n",
       "      <td>35682.000000</td>\n",
       "      <td>6082.000000</td>\n",
       "      <td>15.000100</td>\n",
       "      <td>500001.000000</td>\n",
       "      <td>1.000000</td>\n",
       "      <td>1.000000</td>\n",
       "      <td>1.000000</td>\n",
       "      <td>1.000000</td>\n",
       "      <td>1.000000</td>\n",
       "    </tr>\n",
       "  </tbody>\n",
       "</table>\n",
       "</div>"
      ],
      "text/plain": [
       "          longitude      latitude  housing_median_age   total_rooms  \\\n",
       "count  20433.000000  20433.000000        20433.000000  20433.000000   \n",
       "mean    -119.570689     35.633221           28.633094   2636.504233   \n",
       "std        2.003578      2.136348           12.591805   2185.269567   \n",
       "min     -124.350000     32.540000            1.000000      2.000000   \n",
       "25%     -121.800000     33.930000           18.000000   1450.000000   \n",
       "50%     -118.490000     34.260000           29.000000   2127.000000   \n",
       "75%     -118.010000     37.720000           37.000000   3143.000000   \n",
       "max     -114.310000     41.950000           52.000000  39320.000000   \n",
       "\n",
       "       total_bedrooms    population    households  median_income  \\\n",
       "count    20433.000000  20433.000000  20433.000000   20433.000000   \n",
       "mean       537.870553   1424.946949    499.433465       3.871162   \n",
       "std        421.385070   1133.208490    382.299226       1.899291   \n",
       "min          1.000000      3.000000      1.000000       0.499900   \n",
       "25%        296.000000    787.000000    280.000000       2.563700   \n",
       "50%        435.000000   1166.000000    409.000000       3.536500   \n",
       "75%        647.000000   1722.000000    604.000000       4.744000   \n",
       "max       6445.000000  35682.000000   6082.000000      15.000100   \n",
       "\n",
       "       median_house_value  ocean_proximity_<1H OCEAN  ocean_proximity_INLAND  \\\n",
       "count        20433.000000               20433.000000            20433.000000   \n",
       "mean        206864.413155                   0.442128                0.317917   \n",
       "std         115435.667099                   0.496652                0.465678   \n",
       "min          14999.000000                   0.000000                0.000000   \n",
       "25%         119500.000000                   0.000000                0.000000   \n",
       "50%         179700.000000                   0.000000                0.000000   \n",
       "75%         264700.000000                   1.000000                1.000000   \n",
       "max         500001.000000                   1.000000                1.000000   \n",
       "\n",
       "       ocean_proximity_ISLAND  ocean_proximity_NEAR BAY  \\\n",
       "count            20433.000000              20433.000000   \n",
       "mean                 0.000245                  0.111095   \n",
       "std                  0.015641                  0.314257   \n",
       "min                  0.000000                  0.000000   \n",
       "25%                  0.000000                  0.000000   \n",
       "50%                  0.000000                  0.000000   \n",
       "75%                  0.000000                  0.000000   \n",
       "max                  1.000000                  1.000000   \n",
       "\n",
       "       ocean_proximity_NEAR OCEAN  \n",
       "count                20433.000000  \n",
       "mean                     0.128615  \n",
       "std                      0.334782  \n",
       "min                      0.000000  \n",
       "25%                      0.000000  \n",
       "50%                      0.000000  \n",
       "75%                      0.000000  \n",
       "max                      1.000000  "
      ]
     },
     "execution_count": 10,
     "metadata": {},
     "output_type": "execute_result"
    }
   ],
   "source": [
    "# now we need to find out the max of 'median_house_value' to remove the outliers\n",
    "housing_data.describe()"
   ]
  },
  {
   "cell_type": "code",
   "execution_count": 11,
   "id": "d64c5161",
   "metadata": {},
   "outputs": [
    {
     "data": {
      "text/plain": [
       "longitude                     958\n",
       "latitude                      958\n",
       "housing_median_age            958\n",
       "total_rooms                   958\n",
       "total_bedrooms                958\n",
       "population                    958\n",
       "households                    958\n",
       "median_income                 958\n",
       "median_house_value            958\n",
       "ocean_proximity_<1H OCEAN     958\n",
       "ocean_proximity_INLAND        958\n",
       "ocean_proximity_ISLAND        958\n",
       "ocean_proximity_NEAR BAY      958\n",
       "ocean_proximity_NEAR OCEAN    958\n",
       "dtype: int64"
      ]
     },
     "execution_count": 11,
     "metadata": {},
     "output_type": "execute_result"
    }
   ],
   "source": [
    "# filter the data using loc and get the count\n",
    "housing_data.loc[housing_data['median_house_value']==500001].count()\n",
    "# 958 rows of data could skewness يحرف our training model result, so it is better to drop"
   ]
  },
  {
   "cell_type": "code",
   "execution_count": 12,
   "id": "586f5509",
   "metadata": {},
   "outputs": [
    {
     "data": {
      "text/plain": [
       "(19475, 14)"
      ]
     },
     "execution_count": 12,
     "metadata": {},
     "output_type": "execute_result"
    }
   ],
   "source": [
    "# housing_data.drop(rows or columns indexies)\n",
    "housing_data=housing_data.drop(housing_data.loc[housing_data['median_house_value']==500001].index)\n",
    "housing_data.shape"
   ]
  },
  {
   "cell_type": "markdown",
   "id": "c01bada1",
   "metadata": {},
   "source": [
    "# Train our model - spliting data"
   ]
  },
  {
   "cell_type": "code",
   "execution_count": 13,
   "id": "4aed5704",
   "metadata": {},
   "outputs": [
    {
     "data": {
      "text/plain": [
       "173800.0"
      ]
     },
     "execution_count": 13,
     "metadata": {},
     "output_type": "execute_result"
    }
   ],
   "source": [
    "# we need to convert our data to be classification (LogisticRegression)\n",
    "# will get the median and compare to see if price below or above the median\n",
    "median=housing_data['median_house_value'].median()\n",
    "median"
   ]
  },
  {
   "cell_type": "code",
   "execution_count": 14,
   "id": "4674d07f",
   "metadata": {},
   "outputs": [
    {
     "data": {
      "text/html": [
       "<div>\n",
       "<style scoped>\n",
       "    .dataframe tbody tr th:only-of-type {\n",
       "        vertical-align: middle;\n",
       "    }\n",
       "\n",
       "    .dataframe tbody tr th {\n",
       "        vertical-align: top;\n",
       "    }\n",
       "\n",
       "    .dataframe thead th {\n",
       "        text-align: right;\n",
       "    }\n",
       "</style>\n",
       "<table border=\"1\" class=\"dataframe\">\n",
       "  <thead>\n",
       "    <tr style=\"text-align: right;\">\n",
       "      <th></th>\n",
       "      <th>longitude</th>\n",
       "      <th>latitude</th>\n",
       "      <th>housing_median_age</th>\n",
       "      <th>total_rooms</th>\n",
       "      <th>total_bedrooms</th>\n",
       "      <th>population</th>\n",
       "      <th>households</th>\n",
       "      <th>median_income</th>\n",
       "      <th>median_house_value</th>\n",
       "      <th>ocean_proximity_&lt;1H OCEAN</th>\n",
       "      <th>ocean_proximity_INLAND</th>\n",
       "      <th>ocean_proximity_ISLAND</th>\n",
       "      <th>ocean_proximity_NEAR BAY</th>\n",
       "      <th>ocean_proximity_NEAR OCEAN</th>\n",
       "      <th>above_median</th>\n",
       "    </tr>\n",
       "  </thead>\n",
       "  <tbody>\n",
       "    <tr>\n",
       "      <th>7426</th>\n",
       "      <td>-118.20</td>\n",
       "      <td>33.95</td>\n",
       "      <td>35.0</td>\n",
       "      <td>1924.0</td>\n",
       "      <td>520.0</td>\n",
       "      <td>2101.0</td>\n",
       "      <td>541.0</td>\n",
       "      <td>2.4267</td>\n",
       "      <td>151500.0</td>\n",
       "      <td>1</td>\n",
       "      <td>0</td>\n",
       "      <td>0</td>\n",
       "      <td>0</td>\n",
       "      <td>0</td>\n",
       "      <td>False</td>\n",
       "    </tr>\n",
       "    <tr>\n",
       "      <th>4930</th>\n",
       "      <td>-118.25</td>\n",
       "      <td>33.99</td>\n",
       "      <td>42.0</td>\n",
       "      <td>2261.0</td>\n",
       "      <td>574.0</td>\n",
       "      <td>2496.0</td>\n",
       "      <td>527.0</td>\n",
       "      <td>1.5556</td>\n",
       "      <td>98500.0</td>\n",
       "      <td>1</td>\n",
       "      <td>0</td>\n",
       "      <td>0</td>\n",
       "      <td>0</td>\n",
       "      <td>0</td>\n",
       "      <td>False</td>\n",
       "    </tr>\n",
       "    <tr>\n",
       "      <th>7913</th>\n",
       "      <td>-118.08</td>\n",
       "      <td>33.88</td>\n",
       "      <td>27.0</td>\n",
       "      <td>923.0</td>\n",
       "      <td>186.0</td>\n",
       "      <td>1014.0</td>\n",
       "      <td>204.0</td>\n",
       "      <td>3.8250</td>\n",
       "      <td>159500.0</td>\n",
       "      <td>1</td>\n",
       "      <td>0</td>\n",
       "      <td>0</td>\n",
       "      <td>0</td>\n",
       "      <td>0</td>\n",
       "      <td>False</td>\n",
       "    </tr>\n",
       "    <tr>\n",
       "      <th>10226</th>\n",
       "      <td>-117.88</td>\n",
       "      <td>33.87</td>\n",
       "      <td>35.0</td>\n",
       "      <td>1919.0</td>\n",
       "      <td>349.0</td>\n",
       "      <td>1302.0</td>\n",
       "      <td>345.0</td>\n",
       "      <td>5.6409</td>\n",
       "      <td>190900.0</td>\n",
       "      <td>1</td>\n",
       "      <td>0</td>\n",
       "      <td>0</td>\n",
       "      <td>0</td>\n",
       "      <td>0</td>\n",
       "      <td>True</td>\n",
       "    </tr>\n",
       "    <tr>\n",
       "      <th>11975</th>\n",
       "      <td>-117.43</td>\n",
       "      <td>33.99</td>\n",
       "      <td>18.0</td>\n",
       "      <td>3307.0</td>\n",
       "      <td>547.0</td>\n",
       "      <td>1738.0</td>\n",
       "      <td>457.0</td>\n",
       "      <td>4.5660</td>\n",
       "      <td>116900.0</td>\n",
       "      <td>0</td>\n",
       "      <td>1</td>\n",
       "      <td>0</td>\n",
       "      <td>0</td>\n",
       "      <td>0</td>\n",
       "      <td>False</td>\n",
       "    </tr>\n",
       "  </tbody>\n",
       "</table>\n",
       "</div>"
      ],
      "text/plain": [
       "       longitude  latitude  housing_median_age  total_rooms  total_bedrooms  \\\n",
       "7426     -118.20     33.95                35.0       1924.0           520.0   \n",
       "4930     -118.25     33.99                42.0       2261.0           574.0   \n",
       "7913     -118.08     33.88                27.0        923.0           186.0   \n",
       "10226    -117.88     33.87                35.0       1919.0           349.0   \n",
       "11975    -117.43     33.99                18.0       3307.0           547.0   \n",
       "\n",
       "       population  households  median_income  median_house_value  \\\n",
       "7426       2101.0       541.0         2.4267            151500.0   \n",
       "4930       2496.0       527.0         1.5556             98500.0   \n",
       "7913       1014.0       204.0         3.8250            159500.0   \n",
       "10226      1302.0       345.0         5.6409            190900.0   \n",
       "11975      1738.0       457.0         4.5660            116900.0   \n",
       "\n",
       "       ocean_proximity_<1H OCEAN  ocean_proximity_INLAND  \\\n",
       "7426                           1                       0   \n",
       "4930                           1                       0   \n",
       "7913                           1                       0   \n",
       "10226                          1                       0   \n",
       "11975                          0                       1   \n",
       "\n",
       "       ocean_proximity_ISLAND  ocean_proximity_NEAR BAY  \\\n",
       "7426                        0                         0   \n",
       "4930                        0                         0   \n",
       "7913                        0                         0   \n",
       "10226                       0                         0   \n",
       "11975                       0                         0   \n",
       "\n",
       "       ocean_proximity_NEAR OCEAN  above_median  \n",
       "7426                            0         False  \n",
       "4930                            0         False  \n",
       "7913                            0         False  \n",
       "10226                           0          True  \n",
       "11975                           0         False  "
      ]
     },
     "execution_count": 14,
     "metadata": {},
     "output_type": "execute_result"
    }
   ],
   "source": [
    "# will add new column call above_median \n",
    "housing_data['above_median']=(housing_data['median_house_value']-median)>0\n",
    "housing_data.sample(5)\n",
    "# we see blow if the price is below median (179700.0) will be False otherwaise will be True"
   ]
  },
  {
   "cell_type": "code",
   "execution_count": 15,
   "id": "52cdf193",
   "metadata": {},
   "outputs": [],
   "source": [
    "# now we need to get two sets of data \n",
    "# x for train (features) and y for prediction (target)\n",
    "# since we need to predict the median_house_value, so we need to drop it from our train data\n",
    "X=housing_data.drop(['median_house_value','above_median'],axis=1) # axis=0 => rows and axis=1 => columns \n",
    "Y=housing_data['above_median'] # our output will be True or False (classification)"
   ]
  },
  {
   "cell_type": "code",
   "execution_count": 16,
   "id": "59fad569",
   "metadata": {},
   "outputs": [
    {
     "data": {
      "text/plain": [
       "Index(['longitude', 'latitude', 'housing_median_age', 'total_rooms',\n",
       "       'total_bedrooms', 'population', 'households', 'median_income',\n",
       "       'ocean_proximity_<1H OCEAN', 'ocean_proximity_INLAND',\n",
       "       'ocean_proximity_ISLAND', 'ocean_proximity_NEAR BAY',\n",
       "       'ocean_proximity_NEAR OCEAN'],\n",
       "      dtype='object')"
      ]
     },
     "execution_count": 16,
     "metadata": {},
     "output_type": "execute_result"
    }
   ],
   "source": [
    "X.columns"
   ]
  },
  {
   "cell_type": "code",
   "execution_count": 17,
   "id": "32192f45",
   "metadata": {},
   "outputs": [],
   "source": [
    "# we use the train data to train our model, and later will use the test data to measure the performance of ML model.\n",
    "from sklearn.model_selection import train_test_split\n",
    "x_train,x_test,y_train,y_test=train_test_split(X,Y,test_size=0.2)"
   ]
  },
  {
   "cell_type": "code",
   "execution_count": 18,
   "id": "5e2297af",
   "metadata": {},
   "outputs": [
    {
     "data": {
      "text/plain": [
       "((15580, 13), (3895, 13))"
      ]
     },
     "execution_count": 18,
     "metadata": {},
     "output_type": "execute_result"
    }
   ],
   "source": [
    "x_train.shape,x_test.shape"
   ]
  },
  {
   "cell_type": "code",
   "execution_count": 19,
   "id": "037e05ee",
   "metadata": {},
   "outputs": [
    {
     "data": {
      "text/plain": [
       "((15580,), (3895,))"
      ]
     },
     "execution_count": 19,
     "metadata": {},
     "output_type": "execute_result"
    }
   ],
   "source": [
    "y_train.shape,y_test.shape"
   ]
  },
  {
   "cell_type": "markdown",
   "id": "b46d4963",
   "metadata": {},
   "source": [
    "# Apply LogisticRegression"
   ]
  },
  {
   "cell_type": "markdown",
   "id": "22e4f275",
   "metadata": {},
   "source": [
    "Normalization scales all numersic features to be between 0 and 1.\n",
    "\n",
    "Note: Having features in the same scale can vastly improve the performance of your ML model.\n",
    "\n",
    "fit=Fit the linear model on the training data i.e. train the linear model using our features and target values."
   ]
  },
  {
   "cell_type": "code",
   "execution_count": 20,
   "id": "b8a490b4",
   "metadata": {},
   "outputs": [],
   "source": [
    "from sklearn.linear_model import LogisticRegression\n",
    "# the liblinear solver is a good choice for samll dataset and binary classification\n",
    "logistic_model=LogisticRegression(solver='liblinear').fit(x_train,y_train)"
   ]
  },
  {
   "cell_type": "markdown",
   "id": "55cdb6c1",
   "metadata": {},
   "source": [
    "# evaluation training score"
   ]
  },
  {
   "cell_type": "markdown",
   "id": "3f9f9266",
   "metadata": {},
   "source": [
    "print the evaluation score, this shown how well our linear model capture the underlying variation in our training data"
   ]
  },
  {
   "cell_type": "code",
   "execution_count": 21,
   "id": "fc184792",
   "metadata": {},
   "outputs": [
    {
     "name": "stdout",
     "output_type": "stream",
     "text": [
      "Training_score : 0.8188703465982028\n"
     ]
    }
   ],
   "source": [
    "print(\"Training_score :\",logistic_model.score(x_train,y_train))\n",
    "#0.6144045851306654 it is not fantastic but not bad"
   ]
  },
  {
   "cell_type": "code",
   "execution_count": 22,
   "id": "83f77453",
   "metadata": {},
   "outputs": [
    {
     "data": {
      "text/plain": [
       "Index(['longitude', 'latitude', 'housing_median_age', 'total_rooms',\n",
       "       'total_bedrooms', 'population', 'households', 'median_income',\n",
       "       'ocean_proximity_<1H OCEAN', 'ocean_proximity_INLAND',\n",
       "       'ocean_proximity_ISLAND', 'ocean_proximity_NEAR BAY',\n",
       "       'ocean_proximity_NEAR OCEAN'],\n",
       "      dtype='object')"
      ]
     },
     "execution_count": 22,
     "metadata": {},
     "output_type": "execute_result"
    }
   ],
   "source": [
    "predictors=x_train.columns\n",
    "predictors"
   ]
  },
  {
   "cell_type": "code",
   "execution_count": 24,
   "id": "dd4929b3",
   "metadata": {},
   "outputs": [],
   "source": [
    "# let us predict using the x_test \n",
    "y_pred=logistic_model.predict(x_test)"
   ]
  },
  {
   "cell_type": "code",
   "execution_count": 25,
   "id": "d342c80b",
   "metadata": {},
   "outputs": [
    {
     "data": {
      "text/html": [
       "<div>\n",
       "<style scoped>\n",
       "    .dataframe tbody tr th:only-of-type {\n",
       "        vertical-align: middle;\n",
       "    }\n",
       "\n",
       "    .dataframe tbody tr th {\n",
       "        vertical-align: top;\n",
       "    }\n",
       "\n",
       "    .dataframe thead th {\n",
       "        text-align: right;\n",
       "    }\n",
       "</style>\n",
       "<table border=\"1\" class=\"dataframe\">\n",
       "  <thead>\n",
       "    <tr style=\"text-align: right;\">\n",
       "      <th></th>\n",
       "      <th>predicted</th>\n",
       "      <th>actual</th>\n",
       "    </tr>\n",
       "  </thead>\n",
       "  <tbody>\n",
       "    <tr>\n",
       "      <th>5093</th>\n",
       "      <td>False</td>\n",
       "      <td>False</td>\n",
       "    </tr>\n",
       "    <tr>\n",
       "      <th>499</th>\n",
       "      <td>False</td>\n",
       "      <td>False</td>\n",
       "    </tr>\n",
       "    <tr>\n",
       "      <th>4565</th>\n",
       "      <td>False</td>\n",
       "      <td>False</td>\n",
       "    </tr>\n",
       "    <tr>\n",
       "      <th>5546</th>\n",
       "      <td>True</td>\n",
       "      <td>True</td>\n",
       "    </tr>\n",
       "    <tr>\n",
       "      <th>12194</th>\n",
       "      <td>True</td>\n",
       "      <td>False</td>\n",
       "    </tr>\n",
       "    <tr>\n",
       "      <th>5165</th>\n",
       "      <td>False</td>\n",
       "      <td>False</td>\n",
       "    </tr>\n",
       "    <tr>\n",
       "      <th>11168</th>\n",
       "      <td>True</td>\n",
       "      <td>True</td>\n",
       "    </tr>\n",
       "    <tr>\n",
       "      <th>8298</th>\n",
       "      <td>True</td>\n",
       "      <td>True</td>\n",
       "    </tr>\n",
       "    <tr>\n",
       "      <th>18013</th>\n",
       "      <td>True</td>\n",
       "      <td>True</td>\n",
       "    </tr>\n",
       "    <tr>\n",
       "      <th>12425</th>\n",
       "      <td>False</td>\n",
       "      <td>False</td>\n",
       "    </tr>\n",
       "  </tbody>\n",
       "</table>\n",
       "</div>"
      ],
      "text/plain": [
       "       predicted  actual\n",
       "5093       False   False\n",
       "499        False   False\n",
       "4565       False   False\n",
       "5546        True    True\n",
       "12194       True   False\n",
       "5165       False   False\n",
       "11168       True    True\n",
       "8298        True    True\n",
       "18013       True    True\n",
       "12425      False   False"
      ]
     },
     "execution_count": 25,
     "metadata": {},
     "output_type": "execute_result"
    }
   ],
   "source": [
    "# to take a look on our model prediction using our eyes \n",
    "#we want to compare between our actual data and predicted data\n",
    "df_pred_actual=pd.DataFrame({'predicted':y_pred,'actual':y_test})\n",
    "df_pred_actual.head(10)"
   ]
  },
  {
   "cell_type": "markdown",
   "id": "6eda85b4",
   "metadata": {},
   "source": [
    "# evaluate the accuracy for our test data - using accuracy_score"
   ]
  },
  {
   "cell_type": "code",
   "execution_count": 26,
   "id": "2fab431c",
   "metadata": {},
   "outputs": [
    {
     "name": "stdout",
     "output_type": "stream",
     "text": [
      "Testing_score : 0.824390243902439\n"
     ]
    }
   ],
   "source": [
    "from sklearn.metrics import accuracy_score\n",
    "print('Testing_score :',accuracy_score(y_test,y_pred)) \n",
    "# we can see the score about 82%, that mean 82% of our model predication is correct"
   ]
  },
  {
   "cell_type": "code",
   "execution_count": 30,
   "id": "ab507dc4",
   "metadata": {},
   "outputs": [],
   "source": [
    "# here we can't plot our prediction because it is just True/False values"
   ]
  }
 ],
 "metadata": {
  "interpreter": {
   "hash": "4d18b21c9129fecf69ed76818f0ee3ff68f9e0adcfacd31e18282120af85c7ba"
  },
  "kernelspec": {
   "display_name": "Python 3",
   "language": "python",
   "name": "python3"
  },
  "language_info": {
   "codemirror_mode": {
    "name": "ipython",
    "version": 3
   },
   "file_extension": ".py",
   "mimetype": "text/x-python",
   "name": "python",
   "nbconvert_exporter": "python",
   "pygments_lexer": "ipython3",
   "version": "3.9.5"
  }
 },
 "nbformat": 4,
 "nbformat_minor": 5
}
