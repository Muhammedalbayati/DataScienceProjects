{
 "cells": [
  {
   "cell_type": "code",
   "execution_count": 1,
   "id": "c80705f5",
   "metadata": {},
   "outputs": [],
   "source": [
    "import pymongo\n",
    "\n",
    "myclient = pymongo.MongoClient(\"mongodb://localhost:27017/\")\n",
    "\n",
    "mydb = myclient[\"EzLearnDb\"]"
   ]
  },
  {
   "cell_type": "code",
   "execution_count": 2,
   "id": "9a3b7eb7",
   "metadata": {},
   "outputs": [
    {
     "name": "stdout",
     "output_type": "stream",
     "text": [
      "['EzLearnDb', 'admin', 'config', 'local', 'sumer', 'test']\n"
     ]
    }
   ],
   "source": [
    "print(myclient.list_database_names())"
   ]
  },
  {
   "cell_type": "code",
   "execution_count": 6,
   "id": "4849c0b0",
   "metadata": {},
   "outputs": [
    {
     "name": "stdout",
     "output_type": "stream",
     "text": [
      "The database exists.\n"
     ]
    }
   ],
   "source": [
    "dblist = myclient.list_database_names()\n",
    "if \"EzLearnDb\" in dblist:\n",
    "  print(\"The database exists.\")"
   ]
  },
  {
   "cell_type": "code",
   "execution_count": 8,
   "id": "6c1964d4",
   "metadata": {},
   "outputs": [],
   "source": [
    "# Crate a collection\n",
    "mycol = mydb[\"customers\"]"
   ]
  },
  {
   "cell_type": "code",
   "execution_count": 17,
   "id": "867a0920",
   "metadata": {},
   "outputs": [
    {
     "name": "stdout",
     "output_type": "stream",
     "text": [
      "['customers']\n",
      "ID: 6172190c58f43e453df62aa6\n"
     ]
    }
   ],
   "source": [
    "print(mydb.list_collection_names())\n",
    "mydict = { \"name\": \"Peter\", \"address\": \"Lowstreet 27\" }\n",
    "\n",
    "x = mycol.insert_one(mydict)\n",
    "\n",
    "print(\"ID:\",x.inserted_id)"
   ]
  },
  {
   "cell_type": "code",
   "execution_count": 18,
   "id": "03abf05a",
   "metadata": {
    "scrolled": true
   },
   "outputs": [
    {
     "name": "stdout",
     "output_type": "stream",
     "text": [
      "{'_id': ObjectId('6172189158f43e453df62aa1'), 'name': 'John', 'address': 'Highway 37'}\n",
      "{'_id': ObjectId('617218ba58f43e453df62aa2'), 'name': 'Peter', 'address': 'Lowstreet 27'}\n",
      "{'_id': ObjectId('617218e358f43e453df62aa3'), 'name': 'Peter', 'address': 'Lowstreet 27'}\n",
      "{'_id': ObjectId('617218fa58f43e453df62aa4'), 'name': 'Peter', 'address': 'Lowstreet 27'}\n",
      "{'_id': ObjectId('6172190258f43e453df62aa5'), 'name': 'Peter', 'address': 'Lowstreet 27'}\n",
      "{'_id': ObjectId('6172190c58f43e453df62aa6'), 'name': 'Peter', 'address': 'Lowstreet 27'}\n"
     ]
    }
   ],
   "source": [
    "for x in mycol.find(): # find all\n",
    "  print(x)"
   ]
  },
  {
   "cell_type": "code",
   "execution_count": 32,
   "id": "80e67e9c",
   "metadata": {},
   "outputs": [
    {
     "name": "stdout",
     "output_type": "stream",
     "text": [
      "{'_id': ObjectId('6172189158f43e453df62aa1'), 'name': 'John', 'address': 'Highway 37'}\n"
     ]
    }
   ],
   "source": [
    "# Query1\n",
    "myquery = { \"address\": \"Highway 37\" }\n",
    "\n",
    "mydoc = mycol.find(myquery)\n",
    "\n",
    "for x in mydoc:\n",
    "  print(x)"
   ]
  },
  {
   "cell_type": "code",
   "execution_count": 44,
   "id": "9e8fb139",
   "metadata": {
    "scrolled": true
   },
   "outputs": [],
   "source": [
    "myquery = { \"address\": { \"$gt\": \"Low\" } } #  find anything start with Low\n",
    "\n",
    "mydoc = mycol.find(myquery)\n",
    "\n",
    "for x in mydoc:\n",
    "  print(x)"
   ]
  },
  {
   "cell_type": "code",
   "execution_count": 51,
   "id": "b7e340ea",
   "metadata": {},
   "outputs": [],
   "source": [
    "myquery = { \"address\": { \"$regex\": \"low\" } }\n",
    "mydoc = mycol.find(myquery)\n",
    "\n",
    "for x in mydoc:\n",
    "  print(x)"
   ]
  }
 ],
 "metadata": {
  "kernelspec": {
   "display_name": "Python 3",
   "language": "python",
   "name": "python3"
  },
  "language_info": {
   "codemirror_mode": {
    "name": "ipython",
    "version": 3
   },
   "file_extension": ".py",
   "mimetype": "text/x-python",
   "name": "python",
   "nbconvert_exporter": "python",
   "pygments_lexer": "ipython3",
   "version": "3.9.5"
  }
 },
 "nbformat": 4,
 "nbformat_minor": 5
}
