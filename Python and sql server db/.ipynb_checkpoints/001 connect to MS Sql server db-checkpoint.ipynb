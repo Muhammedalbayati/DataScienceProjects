{
 "cells": [
  {
   "cell_type": "code",
   "execution_count": 9,
   "id": "8c7d8512",
   "metadata": {},
   "outputs": [],
   "source": [
    "# You may need to run follwing command on the command line (if you run here will give you an error)\n",
    "# pip install pyodbc"
   ]
  },
  {
   "cell_type": "code",
   "execution_count": 28,
   "id": "b5d1bde6",
   "metadata": {},
   "outputs": [
    {
     "data": {
      "text/plain": [
       "['SQL Server',\n",
       " 'SQL Server Native Client 11.0',\n",
       " 'ODBC Driver 17 for SQL Server',\n",
       " 'SQL Server Native Client RDA 11.0',\n",
       " 'PostgreSQL ANSI(x64)',\n",
       " 'PostgreSQL Unicode(x64)',\n",
       " 'Amazon Redshift (x64)',\n",
       " 'Microsoft Access Driver (*.mdb, *.accdb)',\n",
       " 'Microsoft Excel Driver (*.xls, *.xlsx, *.xlsm, *.xlsb)',\n",
       " 'Microsoft Access dBASE Driver (*.dbf, *.ndx, *.mdx)',\n",
       " 'Microsoft Access Text Driver (*.txt, *.csv)']"
      ]
     },
     "execution_count": 28,
     "metadata": {},
     "output_type": "execute_result"
    }
   ],
   "source": [
    "# Run this command below and get the ODBC version and put it on your connection string \n",
    "pyodbc.drivers()"
   ]
  },
  {
   "cell_type": "code",
   "execution_count": 61,
   "id": "c9e2d00b",
   "metadata": {
    "scrolled": true
   },
   "outputs": [
    {
     "name": "stdout",
     "output_type": "stream",
     "text": [
      "--- 0.24560904502868652 seconds ---\n"
     ]
    }
   ],
   "source": [
    "import pandas as pd\n",
    "import pyodbc\n",
    "import time\n",
    "start_time = time.time()\n",
    "\n",
    "cnxn = pyodbc.connect(\"Driver={SQL Server Native Client 11.0};\"\n",
    "                      \"Server=MUHAMMEDPC;\"\n",
    "                      \"Database=ExcelBI;\"\n",
    "                      \"Trusted_Connection=yes;\")\n",
    "\n",
    "\n",
    "# cursor = cnxn.cursor()\n",
    "# cursor.execute('SELECT Top(10) * FROM Sales')\n",
    "\n",
    "# for row in cursor:\n",
    "#     print('row = %r' % (row,))\n",
    "    \n",
    "df = pd.read_sql_query('SELECT Top(10) * FROM Sales', cnxn)\n",
    "\n",
    "print(\"--- %s seconds ---\" % (time.time() - start_time))"
   ]
  },
  {
   "cell_type": "code",
   "execution_count": 58,
   "id": "919b11cc",
   "metadata": {},
   "outputs": [
    {
     "data": {
      "text/html": [
       "<div>\n",
       "<style scoped>\n",
       "    .dataframe tbody tr th:only-of-type {\n",
       "        vertical-align: middle;\n",
       "    }\n",
       "\n",
       "    .dataframe tbody tr th {\n",
       "        vertical-align: top;\n",
       "    }\n",
       "\n",
       "    .dataframe thead th {\n",
       "        text-align: right;\n",
       "    }\n",
       "</style>\n",
       "<table border=\"1\" class=\"dataframe\">\n",
       "  <thead>\n",
       "    <tr style=\"text-align: right;\">\n",
       "      <th></th>\n",
       "      <th>ProductID</th>\n",
       "      <th>Date</th>\n",
       "      <th>Zip</th>\n",
       "      <th>Units</th>\n",
       "      <th>Revenue</th>\n",
       "      <th>Country</th>\n",
       "    </tr>\n",
       "  </thead>\n",
       "  <tbody>\n",
       "    <tr>\n",
       "      <th>0</th>\n",
       "      <td>690</td>\n",
       "      <td>2008-01-16</td>\n",
       "      <td>01001</td>\n",
       "      <td>1</td>\n",
       "      <td>375.1125</td>\n",
       "      <td>USA</td>\n",
       "    </tr>\n",
       "    <tr>\n",
       "      <th>1</th>\n",
       "      <td>1085</td>\n",
       "      <td>2008-03-14</td>\n",
       "      <td>01001</td>\n",
       "      <td>1</td>\n",
       "      <td>91.8225</td>\n",
       "      <td>USA</td>\n",
       "    </tr>\n",
       "    <tr>\n",
       "      <th>2</th>\n",
       "      <td>763</td>\n",
       "      <td>2008-03-14</td>\n",
       "      <td>01001</td>\n",
       "      <td>1</td>\n",
       "      <td>333.3225</td>\n",
       "      <td>USA</td>\n",
       "    </tr>\n",
       "    <tr>\n",
       "      <th>3</th>\n",
       "      <td>2331</td>\n",
       "      <td>2008-04-14</td>\n",
       "      <td>01001</td>\n",
       "      <td>1</td>\n",
       "      <td>614.1975</td>\n",
       "      <td>USA</td>\n",
       "    </tr>\n",
       "    <tr>\n",
       "      <th>4</th>\n",
       "      <td>1000</td>\n",
       "      <td>2008-05-16</td>\n",
       "      <td>01001</td>\n",
       "      <td>1</td>\n",
       "      <td>99.6975</td>\n",
       "      <td>USA</td>\n",
       "    </tr>\n",
       "    <tr>\n",
       "      <th>...</th>\n",
       "      <td>...</td>\n",
       "      <td>...</td>\n",
       "      <td>...</td>\n",
       "      <td>...</td>\n",
       "      <td>...</td>\n",
       "      <td>...</td>\n",
       "    </tr>\n",
       "    <tr>\n",
       "      <th>999995</th>\n",
       "      <td>1254</td>\n",
       "      <td>2008-01-30</td>\n",
       "      <td>29316</td>\n",
       "      <td>1</td>\n",
       "      <td>446.1450</td>\n",
       "      <td>USA</td>\n",
       "    </tr>\n",
       "    <tr>\n",
       "      <th>999996</th>\n",
       "      <td>792</td>\n",
       "      <td>2008-05-30</td>\n",
       "      <td>29316</td>\n",
       "      <td>1</td>\n",
       "      <td>70.8225</td>\n",
       "      <td>USA</td>\n",
       "    </tr>\n",
       "    <tr>\n",
       "      <th>999997</th>\n",
       "      <td>764</td>\n",
       "      <td>2008-06-10</td>\n",
       "      <td>29316</td>\n",
       "      <td>1</td>\n",
       "      <td>333.3225</td>\n",
       "      <td>USA</td>\n",
       "    </tr>\n",
       "    <tr>\n",
       "      <th>999998</th>\n",
       "      <td>2090</td>\n",
       "      <td>2008-05-21</td>\n",
       "      <td>29316</td>\n",
       "      <td>1</td>\n",
       "      <td>362.1975</td>\n",
       "      <td>USA</td>\n",
       "    </tr>\n",
       "    <tr>\n",
       "      <th>999999</th>\n",
       "      <td>609</td>\n",
       "      <td>2008-04-17</td>\n",
       "      <td>29316</td>\n",
       "      <td>1</td>\n",
       "      <td>897.4875</td>\n",
       "      <td>USA</td>\n",
       "    </tr>\n",
       "  </tbody>\n",
       "</table>\n",
       "<p>1000000 rows × 6 columns</p>\n",
       "</div>"
      ],
      "text/plain": [
       "        ProductID        Date    Zip  Units   Revenue Country\n",
       "0             690  2008-01-16  01001      1  375.1125     USA\n",
       "1            1085  2008-03-14  01001      1   91.8225     USA\n",
       "2             763  2008-03-14  01001      1  333.3225     USA\n",
       "3            2331  2008-04-14  01001      1  614.1975     USA\n",
       "4            1000  2008-05-16  01001      1   99.6975     USA\n",
       "...           ...         ...    ...    ...       ...     ...\n",
       "999995       1254  2008-01-30  29316      1  446.1450     USA\n",
       "999996        792  2008-05-30  29316      1   70.8225     USA\n",
       "999997        764  2008-06-10  29316      1  333.3225     USA\n",
       "999998       2090  2008-05-21  29316      1  362.1975     USA\n",
       "999999        609  2008-04-17  29316      1  897.4875     USA\n",
       "\n",
       "[1000000 rows x 6 columns]"
      ]
     },
     "execution_count": 58,
     "metadata": {},
     "output_type": "execute_result"
    }
   ],
   "source": [
    "df"
   ]
  },
  {
   "cell_type": "code",
   "execution_count": null,
   "id": "1a454078",
   "metadata": {},
   "outputs": [],
   "source": []
  }
 ],
 "metadata": {
  "kernelspec": {
   "display_name": "Python 3",
   "language": "python",
   "name": "python3"
  },
  "language_info": {
   "codemirror_mode": {
    "name": "ipython",
    "version": 3
   },
   "file_extension": ".py",
   "mimetype": "text/x-python",
   "name": "python",
   "nbconvert_exporter": "python",
   "pygments_lexer": "ipython3",
   "version": "3.9.5"
  }
 },
 "nbformat": 4,
 "nbformat_minor": 5
}
