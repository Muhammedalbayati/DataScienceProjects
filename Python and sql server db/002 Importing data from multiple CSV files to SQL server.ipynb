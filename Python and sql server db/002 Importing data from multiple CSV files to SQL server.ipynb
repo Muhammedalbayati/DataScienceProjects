{
 "cells": [
  {
   "cell_type": "code",
   "execution_count": 16,
   "id": "58d7a07f",
   "metadata": {},
   "outputs": [],
   "source": [
    "import sqlalchemy, pyodbc, os\n",
    "import pandas as pd"
   ]
  },
  {
   "cell_type": "code",
   "execution_count": 17,
   "id": "c83e971d",
   "metadata": {},
   "outputs": [
    {
     "data": {
      "text/plain": [
       "'C:\\\\Users\\\\AcerTech\\\\Desktop\\\\ETL projects\\\\csv files'"
      ]
     },
     "execution_count": 17,
     "metadata": {},
     "output_type": "execute_result"
    }
   ],
   "source": [
    "os.chdir(r\"C:\\Users\\AcerTech\\Desktop\\ETL projects\\csv files\") #This folder contains two csv files\n",
    "os.getcwd()"
   ]
  },
  {
   "cell_type": "code",
   "execution_count": 18,
   "id": "7c138e37",
   "metadata": {},
   "outputs": [
    {
     "name": "stdout",
     "output_type": "stream",
     "text": [
      "['sales_data1.csv', 'sales_data2.csv']\n"
     ]
    }
   ],
   "source": [
    "print(os.listdir())"
   ]
  },
  {
   "cell_type": "code",
   "execution_count": 19,
   "id": "70aa2485",
   "metadata": {},
   "outputs": [
    {
     "name": "stdout",
     "output_type": "stream",
     "text": [
      "MuhammedPc\n"
     ]
    },
    {
     "data": {
      "text/plain": [
       "'MuhammedPc'"
      ]
     },
     "execution_count": 19,
     "metadata": {},
     "output_type": "execute_result"
    }
   ],
   "source": [
    "import platform\n",
    "print(platform.node())\n",
    "import socket\n",
    "socket.gethostname()"
   ]
  },
  {
   "cell_type": "code",
   "execution_count": 20,
   "id": "347e7c6a",
   "metadata": {},
   "outputs": [
    {
     "data": {
      "text/plain": [
       "['SQL Server',\n",
       " 'SQL Server Native Client 11.0',\n",
       " 'ODBC Driver 17 for SQL Server',\n",
       " 'SQL Server Native Client RDA 11.0',\n",
       " 'PostgreSQL ANSI(x64)',\n",
       " 'PostgreSQL Unicode(x64)',\n",
       " 'Amazon Redshift (x64)',\n",
       " 'Microsoft Access Driver (*.mdb, *.accdb)',\n",
       " 'Microsoft Excel Driver (*.xls, *.xlsx, *.xlsm, *.xlsb)',\n",
       " 'Microsoft Access dBASE Driver (*.dbf, *.ndx, *.mdx)',\n",
       " 'Microsoft Access Text Driver (*.txt, *.csv)']"
      ]
     },
     "execution_count": 20,
     "metadata": {},
     "output_type": "execute_result"
    }
   ],
   "source": [
    "pyodbc.drivers()"
   ]
  },
  {
   "cell_type": "code",
   "execution_count": 21,
   "id": "e62ff1af",
   "metadata": {},
   "outputs": [],
   "source": [
    "#creating the connection to sql server db\n",
    "# conn = pyodbc.connect(\"Driver={SQL Server Native Client 11.0};\"\n",
    "#                       \"Server=MUHAMMEDPC;\"\n",
    "#                       \"Database=ExcelBI;\"\n",
    "#                       \"Trusted_Connection=yes;\")"
   ]
  },
  {
   "cell_type": "code",
   "execution_count": 22,
   "id": "55e2d10a",
   "metadata": {},
   "outputs": [],
   "source": [
    "conn=sqlalchemy.create_engine(f'mssql+pyodbc://{socket.gethostname()}/ExcelBI?trusted_connection=yes&driver=ODBC Driver 17 for SQL Server')"
   ]
  },
  {
   "cell_type": "code",
   "execution_count": 23,
   "id": "e5b70ceb",
   "metadata": {
    "scrolled": false
   },
   "outputs": [],
   "source": [
    "for f in os.listdir():\n",
    "    df=pd.read_csv(f)\n",
    "    df.to_sql(\"SalesCSV3\",con=conn,if_exists=\"append\",index=False)\n"
   ]
  },
  {
   "cell_type": "code",
   "execution_count": 24,
   "id": "634169f3",
   "metadata": {},
   "outputs": [
    {
     "data": {
      "text/html": [
       "<div>\n",
       "<style scoped>\n",
       "    .dataframe tbody tr th:only-of-type {\n",
       "        vertical-align: middle;\n",
       "    }\n",
       "\n",
       "    .dataframe tbody tr th {\n",
       "        vertical-align: top;\n",
       "    }\n",
       "\n",
       "    .dataframe thead th {\n",
       "        text-align: right;\n",
       "    }\n",
       "</style>\n",
       "<table border=\"1\" class=\"dataframe\">\n",
       "  <thead>\n",
       "    <tr style=\"text-align: right;\">\n",
       "      <th></th>\n",
       "      <th>ProductID</th>\n",
       "      <th>Date</th>\n",
       "      <th>Zip</th>\n",
       "      <th>Units</th>\n",
       "      <th>Revenue</th>\n",
       "      <th>Country</th>\n",
       "    </tr>\n",
       "  </thead>\n",
       "  <tbody>\n",
       "    <tr>\n",
       "      <th>0</th>\n",
       "      <td>690</td>\n",
       "      <td>2008-01-16</td>\n",
       "      <td>1001</td>\n",
       "      <td>1</td>\n",
       "      <td>375.1125</td>\n",
       "      <td>USA</td>\n",
       "    </tr>\n",
       "    <tr>\n",
       "      <th>1</th>\n",
       "      <td>1085</td>\n",
       "      <td>2008-03-14</td>\n",
       "      <td>1001</td>\n",
       "      <td>1</td>\n",
       "      <td>91.8225</td>\n",
       "      <td>USA</td>\n",
       "    </tr>\n",
       "    <tr>\n",
       "      <th>2</th>\n",
       "      <td>763</td>\n",
       "      <td>2008-03-14</td>\n",
       "      <td>1001</td>\n",
       "      <td>1</td>\n",
       "      <td>333.3225</td>\n",
       "      <td>USA</td>\n",
       "    </tr>\n",
       "    <tr>\n",
       "      <th>3</th>\n",
       "      <td>2331</td>\n",
       "      <td>2008-04-14</td>\n",
       "      <td>1001</td>\n",
       "      <td>1</td>\n",
       "      <td>614.1975</td>\n",
       "      <td>USA</td>\n",
       "    </tr>\n",
       "    <tr>\n",
       "      <th>4</th>\n",
       "      <td>1000</td>\n",
       "      <td>2008-05-16</td>\n",
       "      <td>1001</td>\n",
       "      <td>1</td>\n",
       "      <td>99.6975</td>\n",
       "      <td>USA</td>\n",
       "    </tr>\n",
       "    <tr>\n",
       "      <th>5</th>\n",
       "      <td>2391</td>\n",
       "      <td>2008-07-15</td>\n",
       "      <td>1001</td>\n",
       "      <td>1</td>\n",
       "      <td>750.6975</td>\n",
       "      <td>USA</td>\n",
       "    </tr>\n",
       "    <tr>\n",
       "      <th>6</th>\n",
       "      <td>967</td>\n",
       "      <td>2008-07-16</td>\n",
       "      <td>1001</td>\n",
       "      <td>1</td>\n",
       "      <td>724.4475</td>\n",
       "      <td>USA</td>\n",
       "    </tr>\n",
       "    <tr>\n",
       "      <th>7</th>\n",
       "      <td>1182</td>\n",
       "      <td>2008-06-30</td>\n",
       "      <td>1001</td>\n",
       "      <td>1</td>\n",
       "      <td>181.0725</td>\n",
       "      <td>USA</td>\n",
       "    </tr>\n",
       "    <tr>\n",
       "      <th>8</th>\n",
       "      <td>438</td>\n",
       "      <td>2008-11-10</td>\n",
       "      <td>1001</td>\n",
       "      <td>1</td>\n",
       "      <td>997.4475</td>\n",
       "      <td>USA</td>\n",
       "    </tr>\n",
       "    <tr>\n",
       "      <th>9</th>\n",
       "      <td>2369</td>\n",
       "      <td>2009-02-17</td>\n",
       "      <td>1001</td>\n",
       "      <td>1</td>\n",
       "      <td>424.7250</td>\n",
       "      <td>USA</td>\n",
       "    </tr>\n",
       "  </tbody>\n",
       "</table>\n",
       "</div>"
      ],
      "text/plain": [
       "   ProductID        Date   Zip  Units   Revenue Country\n",
       "0        690  2008-01-16  1001      1  375.1125     USA\n",
       "1       1085  2008-03-14  1001      1   91.8225     USA\n",
       "2        763  2008-03-14  1001      1  333.3225     USA\n",
       "3       2331  2008-04-14  1001      1  614.1975     USA\n",
       "4       1000  2008-05-16  1001      1   99.6975     USA\n",
       "5       2391  2008-07-15  1001      1  750.6975     USA\n",
       "6        967  2008-07-16  1001      1  724.4475     USA\n",
       "7       1182  2008-06-30  1001      1  181.0725     USA\n",
       "8        438  2008-11-10  1001      1  997.4475     USA\n",
       "9       2369  2009-02-17  1001      1  424.7250     USA"
      ]
     },
     "execution_count": 24,
     "metadata": {},
     "output_type": "execute_result"
    }
   ],
   "source": [
    "pd.read_sql(\"select * from SalesCSV3\",con=conn)"
   ]
  },
  {
   "cell_type": "code",
   "execution_count": 25,
   "id": "1c40d579",
   "metadata": {},
   "outputs": [
    {
     "data": {
      "text/plain": [
       "[(690, datetime.date(2008, 1, 16), '1001', 1, Decimal('375.112500'), 'USA'),\n",
       " (1085, datetime.date(2008, 3, 14), '1001', 1, Decimal('91.822500'), 'USA'),\n",
       " (763, datetime.date(2008, 3, 14), '1001', 1, Decimal('333.322500'), 'USA'),\n",
       " (2331, datetime.date(2008, 4, 14), '1001', 1, Decimal('614.197500'), 'USA'),\n",
       " (1000, datetime.date(2008, 5, 16), '1001', 1, Decimal('99.697500'), 'USA'),\n",
       " (2391, datetime.date(2008, 7, 15), '1001', 1, Decimal('750.697500'), 'USA'),\n",
       " (967, datetime.date(2008, 7, 16), '1001', 1, Decimal('724.447500'), 'USA'),\n",
       " (1182, datetime.date(2008, 6, 30), '1001', 1, Decimal('181.072500'), 'USA'),\n",
       " (438, datetime.date(2008, 11, 10), '1001', 1, Decimal('997.447500'), 'USA'),\n",
       " (2369, datetime.date(2009, 2, 17), '1001', 1, Decimal('424.725000'), 'USA')]"
      ]
     },
     "execution_count": 25,
     "metadata": {},
     "output_type": "execute_result"
    }
   ],
   "source": [
    " from sqlalchemy.sql import text\n",
    "#run a query\n",
    "conn.execute(text(\"select * from salescsv3\")).fetchall()"
   ]
  },
  {
   "cell_type": "code",
   "execution_count": 26,
   "id": "63451da1",
   "metadata": {},
   "outputs": [],
   "source": [
    "#delte alll rows\n",
    "# conn.execute(text(\"Truncate Table SalesCSV3\").execution_options(autocommit=True))"
   ]
  },
  {
   "cell_type": "code",
   "execution_count": null,
   "id": "eafb662f",
   "metadata": {},
   "outputs": [],
   "source": []
  },
  {
   "cell_type": "code",
   "execution_count": null,
   "id": "f6c97630",
   "metadata": {},
   "outputs": [],
   "source": []
  }
 ],
 "metadata": {
  "kernelspec": {
   "display_name": "Python 3",
   "language": "python",
   "name": "python3"
  },
  "language_info": {
   "codemirror_mode": {
    "name": "ipython",
    "version": 3
   },
   "file_extension": ".py",
   "mimetype": "text/x-python",
   "name": "python",
   "nbconvert_exporter": "python",
   "pygments_lexer": "ipython3",
   "version": "3.9.5"
  }
 },
 "nbformat": 4,
 "nbformat_minor": 5
}
