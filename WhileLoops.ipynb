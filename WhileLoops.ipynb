{
 "cells": [
  {
   "cell_type": "code",
   "execution_count": 19,
   "id": "f1db07f6",
   "metadata": {},
   "outputs": [],
   "source": [
    "while False:\n",
    "    print(\"Will be printed when the condition evalutes to true!\")"
   ]
  },
  {
   "cell_type": "code",
   "execution_count": 20,
   "id": "23007968",
   "metadata": {},
   "outputs": [
    {
     "name": "stdout",
     "output_type": "stream",
     "text": [
      "8\n"
     ]
    }
   ],
   "source": [
    "x=7\n",
    "while x==7:\n",
    "    x=x+1\n",
    "    print(x)\n",
    "    "
   ]
  },
  {
   "cell_type": "code",
   "execution_count": 21,
   "id": "6a9f0b12",
   "metadata": {},
   "outputs": [],
   "source": [
    "esc_list=['Muhammed','Ali','Mustafa']\n",
    "users_list=['Mahmood','Musab','Muhammed','Ali','Mustafa','Safa']"
   ]
  },
  {
   "cell_type": "code",
   "execution_count": 22,
   "id": "fc6d613a",
   "metadata": {},
   "outputs": [
    {
     "name": "stdout",
     "output_type": "stream",
     "text": [
      "Mahmood\n",
      "Musab\n",
      "Ali\n",
      "Safa\n"
     ]
    }
   ],
   "source": [
    "for user in users_list:\n",
    "    if user =='Muhammed' or user=='Mustafa':\n",
    "        continue #this to skip the loop and go to the next\n",
    "    else:\n",
    "        print(user)"
   ]
  },
  {
   "cell_type": "code",
   "execution_count": null,
   "id": "65ac5a99",
   "metadata": {},
   "outputs": [],
   "source": []
  },
  {
   "cell_type": "code",
   "execution_count": null,
   "id": "74927b21",
   "metadata": {},
   "outputs": [],
   "source": []
  },
  {
   "cell_type": "code",
   "execution_count": 23,
   "id": "4daf1aec",
   "metadata": {},
   "outputs": [
    {
     "name": "stdout",
     "output_type": "stream",
     "text": [
      "Mahmood\n",
      "Musab\n",
      "Safa\n"
     ]
    }
   ],
   "source": [
    "for user in users_list:\n",
    "    if user not in esc_list:\n",
    "        print(user)"
   ]
  },
  {
   "cell_type": "code",
   "execution_count": null,
   "id": "428adbce",
   "metadata": {},
   "outputs": [],
   "source": []
  },
  {
   "cell_type": "code",
   "execution_count": null,
   "id": "16acdb44",
   "metadata": {},
   "outputs": [],
   "source": []
  },
  {
   "cell_type": "code",
   "execution_count": null,
   "id": "d09c4151",
   "metadata": {},
   "outputs": [],
   "source": []
  },
  {
   "cell_type": "code",
   "execution_count": null,
   "id": "ac955c6e",
   "metadata": {},
   "outputs": [],
   "source": []
  }
 ],
 "metadata": {
  "kernelspec": {
   "display_name": "Python 3",
   "language": "python",
   "name": "python3"
  },
  "language_info": {
   "codemirror_mode": {
    "name": "ipython",
    "version": 3
   },
   "file_extension": ".py",
   "mimetype": "text/x-python",
   "name": "python",
   "nbconvert_exporter": "python",
   "pygments_lexer": "ipython3",
   "version": "3.8.8"
  }
 },
 "nbformat": 4,
 "nbformat_minor": 5
}
