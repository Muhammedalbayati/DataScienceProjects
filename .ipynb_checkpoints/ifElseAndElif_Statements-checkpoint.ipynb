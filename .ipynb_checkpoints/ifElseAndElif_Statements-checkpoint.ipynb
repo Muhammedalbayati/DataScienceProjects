{
 "cells": [
  {
   "cell_type": "code",
   "execution_count": 2,
   "id": "e9329225",
   "metadata": {},
   "outputs": [
    {
     "name": "stdout",
     "output_type": "stream",
     "text": [
      "is equal\n"
     ]
    }
   ],
   "source": [
    "if 100==100:\n",
    "    print('is equal')\n",
    "else:\n",
    "    print('is not equal')"
   ]
  },
  {
   "cell_type": "code",
   "execution_count": 11,
   "id": "da228acf",
   "metadata": {},
   "outputs": [],
   "source": [
    "classic_cars=[\"Pierce Arrow\",\"Oldsmobile\", \"Mustang\"]\n",
    "sports_cars=[\"Agera\",\"Regera\",\"Chiron\",\"Veyron\"]"
   ]
  },
  {
   "cell_type": "code",
   "execution_count": 12,
   "id": "c6f6bfaa",
   "metadata": {},
   "outputs": [
    {
     "name": "stdout",
     "output_type": "stream",
     "text": [
      "That isn't a very long list of classic cars\n"
     ]
    }
   ],
   "source": [
    "if len(classic_cars)<5:\n",
    "    print(\"That isn't a very long list of classic cars\")"
   ]
  }
 ],
 "metadata": {
  "kernelspec": {
   "display_name": "Python 3",
   "language": "python",
   "name": "python3"
  },
  "language_info": {
   "codemirror_mode": {
    "name": "ipython",
    "version": 3
   },
   "file_extension": ".py",
   "mimetype": "text/x-python",
   "name": "python",
   "nbconvert_exporter": "python",
   "pygments_lexer": "ipython3",
   "version": "3.8.8"
  }
 },
 "nbformat": 4,
 "nbformat_minor": 5
}
