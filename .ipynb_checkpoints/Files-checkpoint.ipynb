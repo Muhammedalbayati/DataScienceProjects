{
 "cells": [
  {
   "cell_type": "code",
   "execution_count": 17,
   "id": "d5c95d3b",
   "metadata": {},
   "outputs": [],
   "source": [
    "import os"
   ]
  },
  {
   "cell_type": "code",
   "execution_count": 18,
   "id": "36852e37",
   "metadata": {},
   "outputs": [
    {
     "data": {
      "text/plain": [
       "'C:\\\\Users\\\\AcerTech\\\\Documents\\\\MyDataScience1'"
      ]
     },
     "execution_count": 18,
     "metadata": {},
     "output_type": "execute_result"
    }
   ],
   "source": [
    "os.getcwd() # get the current dirctory"
   ]
  },
  {
   "cell_type": "code",
   "execution_count": 19,
   "id": "ed83644e",
   "metadata": {
    "scrolled": true
   },
   "outputs": [
    {
     "name": "stdout",
     "output_type": "stream",
     "text": [
      "File: C:\\Users\\AcerTech\\Documents\\MyDataScience1\\housing.csv\n",
      "File: C:\\Users\\AcerTech\\Documents\\MyDataScience1\\mobile_data_cleaned.csv\n",
      "File: C:\\Users\\AcerTech\\Documents\\MyDataScience1\\mobile_train.csv\n",
      "File: C:\\Users\\AcerTech\\Documents\\MyDataScience1\\music.csv\n",
      "File: C:\\Users\\AcerTech\\Documents\\MyDataScience1\\titanic_processed.csv\n",
      "File: C:\\Users\\AcerTech\\Documents\\MyDataScience1\\titanic_test.csv\n",
      "File: C:\\Users\\AcerTech\\Documents\\MyDataScience1\\titanic_train.csv\n"
     ]
    }
   ],
   "source": [
    "# list all files in a dirctory using os\n",
    "DIR=os.getcwd()\n",
    "filenames=os.listdir(DIR)\n",
    "for filename in filenames:\n",
    "    if filename.endswith(\".csv\"): # to list csv files only.\n",
    "        file_path=os.path.join(DIR, filename)\n",
    "        print(\"File:\",file_path)"
   ]
  },
  {
   "cell_type": "code",
   "execution_count": 37,
   "id": "b3eca24d",
   "metadata": {},
   "outputs": [
    {
     "name": "stdout",
     "output_type": "stream",
     "text": [
      "File: C:\\Users\\AcerTech\\Documents\\MyDataScience1\\housing.csv\n",
      "File: C:\\Users\\AcerTech\\Documents\\MyDataScience1\\mobile_data_cleaned.csv\n",
      "File: C:\\Users\\AcerTech\\Documents\\MyDataScience1\\mobile_train.csv\n",
      "File: C:\\Users\\AcerTech\\Documents\\MyDataScience1\\music.csv\n",
      "File: C:\\Users\\AcerTech\\Documents\\MyDataScience1\\titanic_processed.csv\n",
      "File: C:\\Users\\AcerTech\\Documents\\MyDataScience1\\titanic_test.csv\n",
      "File: C:\\Users\\AcerTech\\Documents\\MyDataScience1\\titanic_train.csv\n"
     ]
    }
   ],
   "source": [
    "# list all files in a dirctory using glob\n",
    "import glob\n",
    "# All files ending with .txt\n",
    "filenames=glob.glob(DIR+\"\\*.csv\")\n",
    "for filename in filenames:\n",
    "#     if filename.endswith(\".csv\"): # to list csv files only.\n",
    "        file_path=os.path.join(DIR, filename)\n",
    "        print(\"File:\",file_path)\n",
    "# All files ending with .txt with depth of 2 folder\n",
    "# print(glob.glob(\"/home/adam/*/*.txt\"))"
   ]
  },
  {
   "cell_type": "code",
   "execution_count": 20,
   "id": "55f0defc",
   "metadata": {},
   "outputs": [
    {
     "data": {
      "text/plain": [
       "<_io.TextIOWrapper name='music.csv' mode='r' encoding='cp1252'>"
      ]
     },
     "execution_count": 20,
     "metadata": {},
     "output_type": "execute_result"
    }
   ],
   "source": [
    "file=open(\"music.csv\") #after you open the file you need to close it or it may get currabted.\n",
    "file"
   ]
  },
  {
   "cell_type": "code",
   "execution_count": 21,
   "id": "c2dd2943",
   "metadata": {},
   "outputs": [
    {
     "data": {
      "text/plain": [
       "'age,gender,genre\\n20,1,HipHop-m\\n23,1,HipHop-m\\n25,1,HipHop-m\\n26,1,Jazz-m\\n29,1,Jazz-m\\n30,1,Jazz-m\\n31,1,Classical-m\\n33,1,Classical-m\\n37,1,Classical-m\\n20,0,Dance-m\\n21,0,Dance-m\\n25,0,Dance-m\\n26,0,Acoustic-m\\n27,0,Acoustic-m\\n30,0,Acoustic-m\\n31,0,Classical-m\\n34,0,Classical-m\\n35,0,Classical-m\\n'"
      ]
     },
     "execution_count": 21,
     "metadata": {},
     "output_type": "execute_result"
    }
   ],
   "source": [
    "file.read()"
   ]
  },
  {
   "cell_type": "code",
   "execution_count": 22,
   "id": "bc739112",
   "metadata": {},
   "outputs": [
    {
     "data": {
      "text/plain": [
       "''"
      ]
     },
     "execution_count": 22,
     "metadata": {},
     "output_type": "execute_result"
    }
   ],
   "source": [
    "file.read() #the pointer reach the end in the first read, so you need to use seek(0) first and then you can use read"
   ]
  },
  {
   "cell_type": "code",
   "execution_count": 23,
   "id": "bcf9d702",
   "metadata": {},
   "outputs": [
    {
     "data": {
      "text/plain": [
       "0"
      ]
     },
     "execution_count": 23,
     "metadata": {},
     "output_type": "execute_result"
    }
   ],
   "source": [
    "file.seek(0)"
   ]
  },
  {
   "cell_type": "code",
   "execution_count": 24,
   "id": "9531b086",
   "metadata": {},
   "outputs": [
    {
     "data": {
      "text/plain": [
       "'age,gender,genre\\n20,1,HipHop-m\\n23,1,HipHop-m\\n25,1,HipHop-m\\n26,1,Jazz-m\\n29,1,Jazz-m\\n30,1,Jazz-m\\n31,1,Classical-m\\n33,1,Classical-m\\n37,1,Classical-m\\n20,0,Dance-m\\n21,0,Dance-m\\n25,0,Dance-m\\n26,0,Acoustic-m\\n27,0,Acoustic-m\\n30,0,Acoustic-m\\n31,0,Classical-m\\n34,0,Classical-m\\n35,0,Classical-m\\n'"
      ]
     },
     "execution_count": 24,
     "metadata": {},
     "output_type": "execute_result"
    }
   ],
   "source": [
    "file.read()"
   ]
  },
  {
   "cell_type": "code",
   "execution_count": 25,
   "id": "7c1c0791",
   "metadata": {},
   "outputs": [],
   "source": [
    "file.close()"
   ]
  },
  {
   "cell_type": "code",
   "execution_count": 26,
   "id": "82ad6eba",
   "metadata": {},
   "outputs": [
    {
     "name": "stdout",
     "output_type": "stream",
     "text": [
      "['age,gender,genre', '20,1,HipHop-m', '23,1,HipHop-m', '25,1,HipHop-m', '26,1,Jazz-m', '29,1,Jazz-m', '30,1,Jazz-m', '31,1,Classical-m', '33,1,Classical-m', '37,1,Classical-m', '20,0,Dance-m', '21,0,Dance-m', '25,0,Dance-m', '26,0,Acoustic-m', '27,0,Acoustic-m', '30,0,Acoustic-m', '31,0,Classical-m', '34,0,Classical-m', '35,0,Classical-m']\n"
     ]
    }
   ],
   "source": [
    "music_array=[]\n",
    "\n",
    "with open(\"music.csv\",'r') as file_again: # using with here will close the file automaticlly. r=read only, a=append mode, w=write mode\n",
    "    for m in file_again:\n",
    "        music_array.append(m.rstrip(\"\\n\"))\n",
    "\n",
    "print(music_array)\n",
    "        "
   ]
  },
  {
   "cell_type": "code",
   "execution_count": 27,
   "id": "c819ba59",
   "metadata": {},
   "outputs": [
    {
     "name": "stdout",
     "output_type": "stream",
     "text": [
      "['age', 'gender', 'genre']\n",
      "['20', '1', 'HipHop-m']\n",
      "['23', '1', 'HipHop-m']\n",
      "['25', '1', 'HipHop-m']\n",
      "['26', '1', 'Jazz-m']\n",
      "['29', '1', 'Jazz-m']\n",
      "['30', '1', 'Jazz-m']\n",
      "['31', '1', 'Classical-m']\n",
      "['33', '1', 'Classical-m']\n",
      "['37', '1', 'Classical-m']\n",
      "['20', '0', 'Dance-m']\n",
      "['21', '0', 'Dance-m']\n",
      "['25', '0', 'Dance-m']\n",
      "['26', '0', 'Acoustic-m']\n",
      "['27', '0', 'Acoustic-m']\n",
      "['30', '0', 'Acoustic-m']\n",
      "['31', '0', 'Classical-m']\n",
      "['34', '0', 'Classical-m']\n",
      "['35', '0', 'Classical-m']\n"
     ]
    }
   ],
   "source": [
    "import csv\n",
    "with open(\"music.csv\",'r') as f:\n",
    "    csv_reader=csv.reader(f)\n",
    "    \n",
    "    for m in csv_reader:\n",
    "        print(m)"
   ]
  },
  {
   "cell_type": "code",
   "execution_count": 28,
   "id": "f892d482",
   "metadata": {},
   "outputs": [],
   "source": [
    "import pandas as pd # this is the best way to work with csv files"
   ]
  },
  {
   "cell_type": "code",
   "execution_count": 29,
   "id": "b1b6d3d6",
   "metadata": {},
   "outputs": [
    {
     "data": {
      "text/html": [
       "<div>\n",
       "<style scoped>\n",
       "    .dataframe tbody tr th:only-of-type {\n",
       "        vertical-align: middle;\n",
       "    }\n",
       "\n",
       "    .dataframe tbody tr th {\n",
       "        vertical-align: top;\n",
       "    }\n",
       "\n",
       "    .dataframe thead th {\n",
       "        text-align: right;\n",
       "    }\n",
       "</style>\n",
       "<table border=\"1\" class=\"dataframe\">\n",
       "  <thead>\n",
       "    <tr style=\"text-align: right;\">\n",
       "      <th></th>\n",
       "      <th>age</th>\n",
       "      <th>gender</th>\n",
       "      <th>genre</th>\n",
       "    </tr>\n",
       "  </thead>\n",
       "  <tbody>\n",
       "    <tr>\n",
       "      <th>0</th>\n",
       "      <td>20</td>\n",
       "      <td>1</td>\n",
       "      <td>HipHop-m</td>\n",
       "    </tr>\n",
       "    <tr>\n",
       "      <th>1</th>\n",
       "      <td>23</td>\n",
       "      <td>1</td>\n",
       "      <td>HipHop-m</td>\n",
       "    </tr>\n",
       "    <tr>\n",
       "      <th>2</th>\n",
       "      <td>25</td>\n",
       "      <td>1</td>\n",
       "      <td>HipHop-m</td>\n",
       "    </tr>\n",
       "    <tr>\n",
       "      <th>3</th>\n",
       "      <td>26</td>\n",
       "      <td>1</td>\n",
       "      <td>Jazz-m</td>\n",
       "    </tr>\n",
       "    <tr>\n",
       "      <th>4</th>\n",
       "      <td>29</td>\n",
       "      <td>1</td>\n",
       "      <td>Jazz-m</td>\n",
       "    </tr>\n",
       "    <tr>\n",
       "      <th>5</th>\n",
       "      <td>30</td>\n",
       "      <td>1</td>\n",
       "      <td>Jazz-m</td>\n",
       "    </tr>\n",
       "    <tr>\n",
       "      <th>6</th>\n",
       "      <td>31</td>\n",
       "      <td>1</td>\n",
       "      <td>Classical-m</td>\n",
       "    </tr>\n",
       "    <tr>\n",
       "      <th>7</th>\n",
       "      <td>33</td>\n",
       "      <td>1</td>\n",
       "      <td>Classical-m</td>\n",
       "    </tr>\n",
       "    <tr>\n",
       "      <th>8</th>\n",
       "      <td>37</td>\n",
       "      <td>1</td>\n",
       "      <td>Classical-m</td>\n",
       "    </tr>\n",
       "    <tr>\n",
       "      <th>9</th>\n",
       "      <td>20</td>\n",
       "      <td>0</td>\n",
       "      <td>Dance-m</td>\n",
       "    </tr>\n",
       "    <tr>\n",
       "      <th>10</th>\n",
       "      <td>21</td>\n",
       "      <td>0</td>\n",
       "      <td>Dance-m</td>\n",
       "    </tr>\n",
       "    <tr>\n",
       "      <th>11</th>\n",
       "      <td>25</td>\n",
       "      <td>0</td>\n",
       "      <td>Dance-m</td>\n",
       "    </tr>\n",
       "    <tr>\n",
       "      <th>12</th>\n",
       "      <td>26</td>\n",
       "      <td>0</td>\n",
       "      <td>Acoustic-m</td>\n",
       "    </tr>\n",
       "    <tr>\n",
       "      <th>13</th>\n",
       "      <td>27</td>\n",
       "      <td>0</td>\n",
       "      <td>Acoustic-m</td>\n",
       "    </tr>\n",
       "    <tr>\n",
       "      <th>14</th>\n",
       "      <td>30</td>\n",
       "      <td>0</td>\n",
       "      <td>Acoustic-m</td>\n",
       "    </tr>\n",
       "    <tr>\n",
       "      <th>15</th>\n",
       "      <td>31</td>\n",
       "      <td>0</td>\n",
       "      <td>Classical-m</td>\n",
       "    </tr>\n",
       "    <tr>\n",
       "      <th>16</th>\n",
       "      <td>34</td>\n",
       "      <td>0</td>\n",
       "      <td>Classical-m</td>\n",
       "    </tr>\n",
       "    <tr>\n",
       "      <th>17</th>\n",
       "      <td>35</td>\n",
       "      <td>0</td>\n",
       "      <td>Classical-m</td>\n",
       "    </tr>\n",
       "  </tbody>\n",
       "</table>\n",
       "</div>"
      ],
      "text/plain": [
       "    age  gender        genre\n",
       "0    20       1     HipHop-m\n",
       "1    23       1     HipHop-m\n",
       "2    25       1     HipHop-m\n",
       "3    26       1       Jazz-m\n",
       "4    29       1       Jazz-m\n",
       "5    30       1       Jazz-m\n",
       "6    31       1  Classical-m\n",
       "7    33       1  Classical-m\n",
       "8    37       1  Classical-m\n",
       "9    20       0      Dance-m\n",
       "10   21       0      Dance-m\n",
       "11   25       0      Dance-m\n",
       "12   26       0   Acoustic-m\n",
       "13   27       0   Acoustic-m\n",
       "14   30       0   Acoustic-m\n",
       "15   31       0  Classical-m\n",
       "16   34       0  Classical-m\n",
       "17   35       0  Classical-m"
      ]
     },
     "execution_count": 29,
     "metadata": {},
     "output_type": "execute_result"
    }
   ],
   "source": [
    "df=pd.read_csv(\"music.csv\")# df=data frame\n",
    "df"
   ]
  },
  {
   "cell_type": "code",
   "execution_count": 30,
   "id": "fc33da5c",
   "metadata": {},
   "outputs": [
    {
     "data": {
      "text/plain": [
       "(18, 3)"
      ]
     },
     "execution_count": 30,
     "metadata": {},
     "output_type": "execute_result"
    }
   ],
   "source": [
    "df.shape"
   ]
  },
  {
   "cell_type": "code",
   "execution_count": 31,
   "id": "df937f0a",
   "metadata": {},
   "outputs": [
    {
     "data": {
      "text/html": [
       "<div>\n",
       "<style scoped>\n",
       "    .dataframe tbody tr th:only-of-type {\n",
       "        vertical-align: middle;\n",
       "    }\n",
       "\n",
       "    .dataframe tbody tr th {\n",
       "        vertical-align: top;\n",
       "    }\n",
       "\n",
       "    .dataframe thead th {\n",
       "        text-align: right;\n",
       "    }\n",
       "</style>\n",
       "<table border=\"1\" class=\"dataframe\">\n",
       "  <thead>\n",
       "    <tr style=\"text-align: right;\">\n",
       "      <th></th>\n",
       "      <th>age</th>\n",
       "      <th>gender</th>\n",
       "    </tr>\n",
       "  </thead>\n",
       "  <tbody>\n",
       "    <tr>\n",
       "      <th>count</th>\n",
       "      <td>18.000000</td>\n",
       "      <td>18.000000</td>\n",
       "    </tr>\n",
       "    <tr>\n",
       "      <th>mean</th>\n",
       "      <td>27.944444</td>\n",
       "      <td>0.500000</td>\n",
       "    </tr>\n",
       "    <tr>\n",
       "      <th>std</th>\n",
       "      <td>5.127460</td>\n",
       "      <td>0.514496</td>\n",
       "    </tr>\n",
       "    <tr>\n",
       "      <th>min</th>\n",
       "      <td>20.000000</td>\n",
       "      <td>0.000000</td>\n",
       "    </tr>\n",
       "    <tr>\n",
       "      <th>25%</th>\n",
       "      <td>25.000000</td>\n",
       "      <td>0.000000</td>\n",
       "    </tr>\n",
       "    <tr>\n",
       "      <th>50%</th>\n",
       "      <td>28.000000</td>\n",
       "      <td>0.500000</td>\n",
       "    </tr>\n",
       "    <tr>\n",
       "      <th>75%</th>\n",
       "      <td>31.000000</td>\n",
       "      <td>1.000000</td>\n",
       "    </tr>\n",
       "    <tr>\n",
       "      <th>max</th>\n",
       "      <td>37.000000</td>\n",
       "      <td>1.000000</td>\n",
       "    </tr>\n",
       "  </tbody>\n",
       "</table>\n",
       "</div>"
      ],
      "text/plain": [
       "             age     gender\n",
       "count  18.000000  18.000000\n",
       "mean   27.944444   0.500000\n",
       "std     5.127460   0.514496\n",
       "min    20.000000   0.000000\n",
       "25%    25.000000   0.000000\n",
       "50%    28.000000   0.500000\n",
       "75%    31.000000   1.000000\n",
       "max    37.000000   1.000000"
      ]
     },
     "execution_count": 31,
     "metadata": {},
     "output_type": "execute_result"
    }
   ],
   "source": [
    "df.describe()"
   ]
  },
  {
   "cell_type": "code",
   "execution_count": 32,
   "id": "cb0ed44a",
   "metadata": {},
   "outputs": [
    {
     "data": {
      "text/plain": [
       "array([[20, 1, 'HipHop-m'],\n",
       "       [23, 1, 'HipHop-m'],\n",
       "       [25, 1, 'HipHop-m'],\n",
       "       [26, 1, 'Jazz-m'],\n",
       "       [29, 1, 'Jazz-m'],\n",
       "       [30, 1, 'Jazz-m'],\n",
       "       [31, 1, 'Classical-m'],\n",
       "       [33, 1, 'Classical-m'],\n",
       "       [37, 1, 'Classical-m'],\n",
       "       [20, 0, 'Dance-m'],\n",
       "       [21, 0, 'Dance-m'],\n",
       "       [25, 0, 'Dance-m'],\n",
       "       [26, 0, 'Acoustic-m'],\n",
       "       [27, 0, 'Acoustic-m'],\n",
       "       [30, 0, 'Acoustic-m'],\n",
       "       [31, 0, 'Classical-m'],\n",
       "       [34, 0, 'Classical-m'],\n",
       "       [35, 0, 'Classical-m']], dtype=object)"
      ]
     },
     "execution_count": 32,
     "metadata": {},
     "output_type": "execute_result"
    }
   ],
   "source": [
    "df.values"
   ]
  },
  {
   "cell_type": "code",
   "execution_count": null,
   "id": "f274195f",
   "metadata": {},
   "outputs": [],
   "source": []
  },
  {
   "cell_type": "code",
   "execution_count": null,
   "id": "17f32994",
   "metadata": {},
   "outputs": [],
   "source": []
  },
  {
   "cell_type": "code",
   "execution_count": null,
   "id": "af2405bd",
   "metadata": {},
   "outputs": [],
   "source": []
  },
  {
   "cell_type": "code",
   "execution_count": null,
   "id": "6d126ed0",
   "metadata": {},
   "outputs": [],
   "source": []
  },
  {
   "cell_type": "code",
   "execution_count": null,
   "id": "d5b4192c",
   "metadata": {},
   "outputs": [],
   "source": []
  },
  {
   "cell_type": "code",
   "execution_count": null,
   "id": "062d1fde",
   "metadata": {},
   "outputs": [],
   "source": []
  },
  {
   "cell_type": "code",
   "execution_count": null,
   "id": "55d4fbdf",
   "metadata": {},
   "outputs": [],
   "source": []
  },
  {
   "cell_type": "code",
   "execution_count": null,
   "id": "bc0892b0",
   "metadata": {},
   "outputs": [],
   "source": []
  },
  {
   "cell_type": "code",
   "execution_count": null,
   "id": "e41bf73c",
   "metadata": {},
   "outputs": [],
   "source": []
  }
 ],
 "metadata": {
  "kernelspec": {
   "display_name": "Python 3",
   "language": "python",
   "name": "python3"
  },
  "language_info": {
   "codemirror_mode": {
    "name": "ipython",
    "version": 3
   },
   "file_extension": ".py",
   "mimetype": "text/x-python",
   "name": "python",
   "nbconvert_exporter": "python",
   "pygments_lexer": "ipython3",
   "version": "3.9.5"
  }
 },
 "nbformat": 4,
 "nbformat_minor": 5
}
