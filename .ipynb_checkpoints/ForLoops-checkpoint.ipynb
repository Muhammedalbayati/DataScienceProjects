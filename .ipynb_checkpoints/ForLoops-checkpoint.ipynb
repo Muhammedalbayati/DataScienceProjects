{
 "cells": [
  {
   "cell_type": "code",
   "execution_count": 91,
   "id": "28a1f80b",
   "metadata": {},
   "outputs": [],
   "source": [
    "#List\n",
    "sports_cars=[\"Agera\",\"Regera\",\"Chiron\",\"Veyron\"]"
   ]
  },
  {
   "cell_type": "code",
   "execution_count": 92,
   "id": "897c5a83",
   "metadata": {},
   "outputs": [
    {
     "name": "stdout",
     "output_type": "stream",
     "text": [
      "Agera\n",
      "Regera\n",
      "Chiron\n",
      "Veyron\n"
     ]
    }
   ],
   "source": [
    "for car in sports_cars:\n",
    "    print(car)"
   ]
  },
  {
   "cell_type": "code",
   "execution_count": 93,
   "id": "32e6c02e",
   "metadata": {},
   "outputs": [
    {
     "name": "stdout",
     "output_type": "stream",
     "text": [
      "M\n",
      "u\n",
      "h\n",
      "a\n",
      "m\n",
      "m\n",
      "e\n",
      "d\n"
     ]
    }
   ],
   "source": [
    "for char in \"Muhammed\":\n",
    "    print(char)"
   ]
  },
  {
   "cell_type": "code",
   "execution_count": 94,
   "id": "7362173f",
   "metadata": {},
   "outputs": [],
   "source": [
    "#Tuble\n",
    "cams=(\"Canon EOS 500D\",\n",
    "       \"Nikon D90\",\n",
    "       \"Canon EOS 450D\")"
   ]
  },
  {
   "cell_type": "code",
   "execution_count": 95,
   "id": "29d9e332",
   "metadata": {},
   "outputs": [
    {
     "name": "stdout",
     "output_type": "stream",
     "text": [
      "Canon EOS 500D\n",
      "Nikon D90\n",
      "Canon EOS 450D\n"
     ]
    }
   ],
   "source": [
    "for camera in cams:\n",
    "    print(camera)"
   ]
  },
  {
   "cell_type": "code",
   "execution_count": 96,
   "id": "7fbdb227",
   "metadata": {},
   "outputs": [],
   "source": [
    "num_list=[100,800,330,220,900,110]"
   ]
  },
  {
   "cell_type": "code",
   "execution_count": 97,
   "id": "c1574ada",
   "metadata": {},
   "outputs": [
    {
     "name": "stdout",
     "output_type": "stream",
     "text": [
      "<500: 100\n",
      ">500 800\n",
      "<500: 330\n",
      "<500: 220\n",
      ">500 900\n",
      "<500: 110\n"
     ]
    }
   ],
   "source": [
    "for num in num_list:\n",
    "    if num<500:\n",
    "        print(\"<500:\",num)\n",
    "    else:\n",
    "        print(\">500\",num)\n",
    "        "
   ]
  },
  {
   "cell_type": "code",
   "execution_count": 98,
   "id": "8b49671d",
   "metadata": {},
   "outputs": [
    {
     "data": {
      "text/plain": [
       "range(0, 10)"
      ]
     },
     "execution_count": 98,
     "metadata": {},
     "output_type": "execute_result"
    }
   ],
   "source": [
    "r = range(10)\n",
    "r"
   ]
  },
  {
   "cell_type": "code",
   "execution_count": 99,
   "id": "c853e2dc",
   "metadata": {},
   "outputs": [
    {
     "data": {
      "text/plain": [
       "(0, 1, 2, 3, 4, 5, 6, 7, 8, 9)"
      ]
     },
     "execution_count": 99,
     "metadata": {},
     "output_type": "execute_result"
    }
   ],
   "source": [
    "tuple(r)"
   ]
  },
  {
   "cell_type": "code",
   "execution_count": 100,
   "id": "0ce36e04",
   "metadata": {},
   "outputs": [
    {
     "data": {
      "text/plain": [
       "[0, 1, 2, 3, 4, 5, 6, 7, 8, 9]"
      ]
     },
     "execution_count": 100,
     "metadata": {},
     "output_type": "execute_result"
    }
   ],
   "source": [
    "list(r)"
   ]
  },
  {
   "cell_type": "code",
   "execution_count": 101,
   "id": "96ab72d2",
   "metadata": {},
   "outputs": [
    {
     "data": {
      "text/plain": [
       "[2, 3, 4, 5, 6, 7, 8, 9]"
      ]
     },
     "execution_count": 101,
     "metadata": {},
     "output_type": "execute_result"
    }
   ],
   "source": [
    "list(range(2,10))"
   ]
  },
  {
   "cell_type": "code",
   "execution_count": 102,
   "id": "813b3dd1",
   "metadata": {},
   "outputs": [
    {
     "data": {
      "text/plain": [
       "[-4, -3, -2, -1, 0, 1, 2, 3, 4, 5, 6, 7, 8, 9]"
      ]
     },
     "execution_count": 102,
     "metadata": {},
     "output_type": "execute_result"
    }
   ],
   "source": [
    "list(range(-4,10))"
   ]
  },
  {
   "cell_type": "code",
   "execution_count": 103,
   "id": "a1d52676",
   "metadata": {},
   "outputs": [
    {
     "name": "stdout",
     "output_type": "stream",
     "text": [
      "0\n",
      "1\n",
      "2\n",
      "3\n",
      "4\n",
      "5\n"
     ]
    }
   ],
   "source": [
    "for i in range(6):\n",
    "    print(i)"
   ]
  },
  {
   "cell_type": "code",
   "execution_count": 104,
   "id": "2eaaff01",
   "metadata": {},
   "outputs": [
    {
     "name": "stdout",
     "output_type": "stream",
     "text": [
      "2\n",
      "3\n",
      "4\n"
     ]
    }
   ],
   "source": [
    "for i in range(2,5):\n",
    "    print(i)"
   ]
  },
  {
   "cell_type": "code",
   "execution_count": 105,
   "id": "c5e840e9",
   "metadata": {},
   "outputs": [
    {
     "name": "stdout",
     "output_type": "stream",
     "text": [
      "2\n",
      "5\n",
      "8\n"
     ]
    }
   ],
   "source": [
    "for i in range(2,11,3):\n",
    "    print(i)"
   ]
  },
  {
   "cell_type": "code",
   "execution_count": 106,
   "id": "1439debc",
   "metadata": {},
   "outputs": [
    {
     "name": "stdout",
     "output_type": "stream",
     "text": [
      "Hello!!!\n",
      "Hello!!!\n",
      "Hello!!!\n",
      "Hello!!!\n",
      "Hello!!!\n",
      "Hello!!!\n",
      "Hello!!!\n"
     ]
    }
   ],
   "source": [
    "for _ in range(7):\n",
    "    print(\"Hello!!!\")"
   ]
  },
  {
   "cell_type": "code",
   "execution_count": 107,
   "id": "f91ab600",
   "metadata": {},
   "outputs": [],
   "source": [
    "names_and_ages={\"John\":53,\n",
    "               \"Alice\":23,\n",
    "               \"Bill\":14,\n",
    "               \"Dave\":25}"
   ]
  },
  {
   "cell_type": "code",
   "execution_count": 110,
   "id": "4f57a7c0",
   "metadata": {},
   "outputs": [
    {
     "name": "stdout",
     "output_type": "stream",
     "text": [
      "Name: John Age: 53\n",
      "Name: Alice Age: 23\n",
      "Name: Bill Age: 14\n",
      "Name: Dave Age: 25\n"
     ]
    }
   ],
   "source": [
    "for key in names_and_ages:\n",
    "    print(\"Name:\",key,\"Age:\",names_and_ages[key])"
   ]
  },
  {
   "cell_type": "code",
   "execution_count": 114,
   "id": "36e70d2c",
   "metadata": {},
   "outputs": [
    {
     "data": {
      "text/plain": [
       "dict_keys(['John', 'Alice', 'Bill', 'Dave'])"
      ]
     },
     "execution_count": 114,
     "metadata": {},
     "output_type": "execute_result"
    }
   ],
   "source": [
    "names_and_ages.keys()"
   ]
  },
  {
   "cell_type": "code",
   "execution_count": 112,
   "id": "c71b98f2",
   "metadata": {},
   "outputs": [
    {
     "name": "stdout",
     "output_type": "stream",
     "text": [
      "John\n",
      "Alice\n",
      "Bill\n",
      "Dave\n"
     ]
    }
   ],
   "source": [
    "for key in names_and_ages.keys():\n",
    "    print(key)"
   ]
  },
  {
   "cell_type": "code",
   "execution_count": 115,
   "id": "94ead116",
   "metadata": {},
   "outputs": [
    {
     "data": {
      "text/plain": [
       "dict_values([53, 23, 14, 25])"
      ]
     },
     "execution_count": 115,
     "metadata": {},
     "output_type": "execute_result"
    }
   ],
   "source": [
    "names_and_ages.values()"
   ]
  },
  {
   "cell_type": "code",
   "execution_count": 113,
   "id": "9753e278",
   "metadata": {},
   "outputs": [
    {
     "name": "stdout",
     "output_type": "stream",
     "text": [
      "53\n",
      "23\n",
      "14\n",
      "25\n"
     ]
    }
   ],
   "source": [
    "for value in names_and_ages.values():\n",
    "    print(value)"
   ]
  },
  {
   "cell_type": "code",
   "execution_count": 116,
   "id": "36522b16",
   "metadata": {},
   "outputs": [
    {
     "data": {
      "text/plain": [
       "dict_items([('John', 53), ('Alice', 23), ('Bill', 14), ('Dave', 25)])"
      ]
     },
     "execution_count": 116,
     "metadata": {},
     "output_type": "execute_result"
    }
   ],
   "source": [
    "names_and_ages.items()"
   ]
  },
  {
   "cell_type": "code",
   "execution_count": null,
   "id": "1132dd36",
   "metadata": {},
   "outputs": [],
   "source": []
  }
 ],
 "metadata": {
  "kernelspec": {
   "display_name": "Python 3",
   "language": "python",
   "name": "python3"
  },
  "language_info": {
   "codemirror_mode": {
    "name": "ipython",
    "version": 3
   },
   "file_extension": ".py",
   "mimetype": "text/x-python",
   "name": "python",
   "nbconvert_exporter": "python",
   "pygments_lexer": "ipython3",
   "version": "3.8.8"
  }
 },
 "nbformat": 4,
 "nbformat_minor": 5
}
