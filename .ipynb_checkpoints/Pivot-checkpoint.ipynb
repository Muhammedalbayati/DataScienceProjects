{
 "cells": [
  {
   "cell_type": "code",
   "execution_count": 8,
   "id": "40dcf2ea",
   "metadata": {},
   "outputs": [
    {
     "data": {
      "text/plain": [
       "<bound method NDFrame.head of     age  gender        genre\n",
       "0    20       1     HipHop-m\n",
       "1    23       1     HipHop-m\n",
       "2    25       1     HipHop-m\n",
       "3    26       1       Jazz-m\n",
       "4    29       1       Jazz-m\n",
       "5    30       1       Jazz-m\n",
       "6    31       1  Classical-m\n",
       "7    33       1  Classical-m\n",
       "8    37       1  Classical-m\n",
       "9    20       0      Dance-m\n",
       "10   21       0      Dance-m\n",
       "11   25       0      Dance-m\n",
       "12   26       0   Acoustic-m\n",
       "13   27       0   Acoustic-m\n",
       "14   30       0   Acoustic-m\n",
       "15   31       0  Classical-m\n",
       "16   34       0  Classical-m\n",
       "17   35       0  Classical-m>"
      ]
     },
     "execution_count": 8,
     "metadata": {},
     "output_type": "execute_result"
    }
   ],
   "source": [
    "import pandas as pd\n",
    "data = pd.read_csv('music.csv')\n",
    "data.head\n"
   ]
  },
  {
   "cell_type": "code",
   "execution_count": 9,
   "id": "6215ce8f",
   "metadata": {},
   "outputs": [
    {
     "data": {
      "text/html": [
       "<div>\n",
       "<style scoped>\n",
       "    .dataframe tbody tr th:only-of-type {\n",
       "        vertical-align: middle;\n",
       "    }\n",
       "\n",
       "    .dataframe tbody tr th {\n",
       "        vertical-align: top;\n",
       "    }\n",
       "\n",
       "    .dataframe thead tr th {\n",
       "        text-align: left;\n",
       "    }\n",
       "\n",
       "    .dataframe thead tr:last-of-type th {\n",
       "        text-align: right;\n",
       "    }\n",
       "</style>\n",
       "<table border=\"1\" class=\"dataframe\">\n",
       "  <thead>\n",
       "    <tr>\n",
       "      <th></th>\n",
       "      <th colspan=\"13\" halign=\"left\">genre</th>\n",
       "    </tr>\n",
       "    <tr>\n",
       "      <th>age</th>\n",
       "      <th>20</th>\n",
       "      <th>21</th>\n",
       "      <th>23</th>\n",
       "      <th>25</th>\n",
       "      <th>26</th>\n",
       "      <th>27</th>\n",
       "      <th>29</th>\n",
       "      <th>30</th>\n",
       "      <th>31</th>\n",
       "      <th>33</th>\n",
       "      <th>34</th>\n",
       "      <th>35</th>\n",
       "      <th>37</th>\n",
       "    </tr>\n",
       "    <tr>\n",
       "      <th>gender</th>\n",
       "      <th></th>\n",
       "      <th></th>\n",
       "      <th></th>\n",
       "      <th></th>\n",
       "      <th></th>\n",
       "      <th></th>\n",
       "      <th></th>\n",
       "      <th></th>\n",
       "      <th></th>\n",
       "      <th></th>\n",
       "      <th></th>\n",
       "      <th></th>\n",
       "      <th></th>\n",
       "    </tr>\n",
       "  </thead>\n",
       "  <tbody>\n",
       "    <tr>\n",
       "      <th>0</th>\n",
       "      <td>Dance-m</td>\n",
       "      <td>Dance-m</td>\n",
       "      <td>NaN</td>\n",
       "      <td>Dance-m</td>\n",
       "      <td>Acoustic-m</td>\n",
       "      <td>Acoustic-m</td>\n",
       "      <td>NaN</td>\n",
       "      <td>Acoustic-m</td>\n",
       "      <td>Classical-m</td>\n",
       "      <td>NaN</td>\n",
       "      <td>Classical-m</td>\n",
       "      <td>Classical-m</td>\n",
       "      <td>NaN</td>\n",
       "    </tr>\n",
       "    <tr>\n",
       "      <th>1</th>\n",
       "      <td>HipHop-m</td>\n",
       "      <td>NaN</td>\n",
       "      <td>HipHop-m</td>\n",
       "      <td>HipHop-m</td>\n",
       "      <td>Jazz-m</td>\n",
       "      <td>NaN</td>\n",
       "      <td>Jazz-m</td>\n",
       "      <td>Jazz-m</td>\n",
       "      <td>Classical-m</td>\n",
       "      <td>Classical-m</td>\n",
       "      <td>NaN</td>\n",
       "      <td>NaN</td>\n",
       "      <td>Classical-m</td>\n",
       "    </tr>\n",
       "  </tbody>\n",
       "</table>\n",
       "</div>"
      ],
      "text/plain": [
       "           genre                                                               \\\n",
       "age           20       21        23        25          26          27      29   \n",
       "gender                                                                          \n",
       "0        Dance-m  Dance-m       NaN   Dance-m  Acoustic-m  Acoustic-m     NaN   \n",
       "1       HipHop-m      NaN  HipHop-m  HipHop-m      Jazz-m         NaN  Jazz-m   \n",
       "\n",
       "                                                                        \\\n",
       "age             30           31           33           34           35   \n",
       "gender                                                                   \n",
       "0       Acoustic-m  Classical-m          NaN  Classical-m  Classical-m   \n",
       "1           Jazz-m  Classical-m  Classical-m          NaN          NaN   \n",
       "\n",
       "                     \n",
       "age              37  \n",
       "gender               \n",
       "0               NaN  \n",
       "1       Classical-m  "
      ]
     },
     "execution_count": 9,
     "metadata": {},
     "output_type": "execute_result"
    }
   ],
   "source": [
    "data.pivot(index=\"gender\",columns=\"age\")"
   ]
  },
  {
   "cell_type": "code",
   "execution_count": null,
   "id": "d1fcc087",
   "metadata": {},
   "outputs": [],
   "source": []
  },
  {
   "cell_type": "code",
   "execution_count": null,
   "id": "ba6b58bb",
   "metadata": {},
   "outputs": [],
   "source": []
  },
  {
   "cell_type": "code",
   "execution_count": null,
   "id": "9bd38a48",
   "metadata": {},
   "outputs": [],
   "source": []
  },
  {
   "cell_type": "code",
   "execution_count": null,
   "id": "9497dce9",
   "metadata": {},
   "outputs": [],
   "source": []
  },
  {
   "cell_type": "code",
   "execution_count": null,
   "id": "86110d6a",
   "metadata": {},
   "outputs": [],
   "source": []
  },
  {
   "cell_type": "code",
   "execution_count": null,
   "id": "c1a09862",
   "metadata": {},
   "outputs": [],
   "source": []
  },
  {
   "cell_type": "code",
   "execution_count": null,
   "id": "952c8953",
   "metadata": {},
   "outputs": [],
   "source": []
  }
 ],
 "metadata": {
  "kernelspec": {
   "display_name": "Python 3",
   "language": "python",
   "name": "python3"
  },
  "language_info": {
   "codemirror_mode": {
    "name": "ipython",
    "version": 3
   },
   "file_extension": ".py",
   "mimetype": "text/x-python",
   "name": "python",
   "nbconvert_exporter": "python",
   "pygments_lexer": "ipython3",
   "version": "3.9.5"
  }
 },
 "nbformat": 4,
 "nbformat_minor": 5
}
