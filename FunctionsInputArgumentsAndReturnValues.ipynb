{
 "cells": [
  {
   "cell_type": "code",
   "execution_count": 59,
   "id": "692e5632",
   "metadata": {},
   "outputs": [],
   "source": [
    "def say_hello():\n",
    "    print(\"Hello to you\")"
   ]
  },
  {
   "cell_type": "code",
   "execution_count": 60,
   "id": "82d0b95b",
   "metadata": {},
   "outputs": [
    {
     "name": "stdout",
     "output_type": "stream",
     "text": [
      "Hello to you\n"
     ]
    }
   ],
   "source": [
    "say_hello()\n"
   ]
  },
  {
   "cell_type": "code",
   "execution_count": 61,
   "id": "11f39d08",
   "metadata": {},
   "outputs": [],
   "source": [
    "def calculate_sum(x,y):\n",
    "    #print(x+y)\n",
    "    return x+y"
   ]
  },
  {
   "cell_type": "code",
   "execution_count": 62,
   "id": "26e156e9",
   "metadata": {},
   "outputs": [],
   "source": [
    "result=calculate_sum(5,6)"
   ]
  },
  {
   "cell_type": "code",
   "execution_count": 63,
   "id": "f1a981c1",
   "metadata": {},
   "outputs": [],
   "source": [
    "def car_parts(name,brand,hp=5): #passing arguments with default values\n",
    "    print(\"Name of the car :\",name)\n",
    "    print(\"Brand :\",brand)\n",
    "    print(\"HP :\",hp)"
   ]
  },
  {
   "cell_type": "code",
   "execution_count": 64,
   "id": "07ab7a7c",
   "metadata": {},
   "outputs": [
    {
     "name": "stdout",
     "output_type": "stream",
     "text": [
      "Name of the car : X6\n",
      "Brand : BMW\n",
      "HP : 5\n"
     ]
    }
   ],
   "source": [
    "car_parts(\"X6\",\"BMW\")"
   ]
  },
  {
   "cell_type": "code",
   "execution_count": 65,
   "id": "b4562da7",
   "metadata": {},
   "outputs": [
    {
     "name": "stdout",
     "output_type": "stream",
     "text": [
      "Name of the car : X6\n",
      "Brand : BMW\n",
      "HP : 7\n"
     ]
    }
   ],
   "source": [
    "car_parts(hp=7,name=\"X6\",brand=\"BMW\") # passing arguments with name of parameter, the arguments order doesn't mater"
   ]
  },
  {
   "cell_type": "code",
   "execution_count": null,
   "id": "9f7e0747",
   "metadata": {},
   "outputs": [],
   "source": []
  },
  {
   "cell_type": "code",
   "execution_count": null,
   "id": "4f721bb6",
   "metadata": {},
   "outputs": [],
   "source": []
  },
  {
   "cell_type": "code",
   "execution_count": null,
   "id": "3b4326c7",
   "metadata": {},
   "outputs": [],
   "source": []
  }
 ],
 "metadata": {
  "kernelspec": {
   "display_name": "Python 3",
   "language": "python",
   "name": "python3"
  },
  "language_info": {
   "codemirror_mode": {
    "name": "ipython",
    "version": 3
   },
   "file_extension": ".py",
   "mimetype": "text/x-python",
   "name": "python",
   "nbconvert_exporter": "python",
   "pygments_lexer": "ipython3",
   "version": "3.8.8"
  }
 },
 "nbformat": 4,
 "nbformat_minor": 5
}
